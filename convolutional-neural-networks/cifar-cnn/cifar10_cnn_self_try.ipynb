{
 "cells": [
  {
   "cell_type": "code",
   "execution_count": 91,
   "metadata": {},
   "outputs": [],
   "source": [
    "from IPython.core.interactiveshell import InteractiveShell\n",
    "InteractiveShell.ast_node_interactivity = 'all'"
   ]
  },
  {
   "cell_type": "code",
   "execution_count": 92,
   "metadata": {},
   "outputs": [],
   "source": [
    "import numpy as np\n",
    "import matplotlib.pyplot as plt\n",
    "%matplotlib inline"
   ]
  },
  {
   "cell_type": "code",
   "execution_count": 93,
   "metadata": {},
   "outputs": [],
   "source": [
    "import torch\n",
    "import torch.nn.functional as F\n",
    "from torch import nn, optim\n",
    "from torchvision import datasets, transforms, models\n",
    "from torch.autograd import Variable"
   ]
  },
  {
   "cell_type": "code",
   "execution_count": 94,
   "metadata": {},
   "outputs": [
    {
     "data": {
      "text/plain": [
       "device(type='cuda', index=0)"
      ]
     },
     "execution_count": 94,
     "metadata": {},
     "output_type": "execute_result"
    }
   ],
   "source": [
    "device = torch.device(\"cuda:0\" if torch.cuda.is_available() else \"cpu\")\n",
    "device"
   ]
  },
  {
   "cell_type": "code",
   "execution_count": 95,
   "metadata": {},
   "outputs": [],
   "source": [
    "eval_size = 0.2\n",
    "num_workers = 0\n",
    "batch_size = 20"
   ]
  },
  {
   "cell_type": "code",
   "execution_count": 96,
   "metadata": {},
   "outputs": [
    {
     "name": "stdout",
     "output_type": "stream",
     "text": [
      "Files already downloaded and verified\n",
      "Files already downloaded and verified\n"
     ]
    }
   ],
   "source": [
    "transform = transforms.Compose([\n",
    "    transforms.ToTensor(),\n",
    "    transforms.Normalize((0.5,0.5,0.5), (0.5,0.5,0.5))\n",
    "])\n",
    "\n",
    "train_data = datasets.CIFAR10(root= \"data\", download = True, train = True, transform = transform)\n",
    "test_data = datasets.CIFAR10(root= \"data\", download = True, train = False, transform = transform)"
   ]
  },
  {
   "cell_type": "code",
   "execution_count": 97,
   "metadata": {},
   "outputs": [
    {
     "name": "stdout",
     "output_type": "stream",
     "text": [
      "Total number of images available in CIFAR10 datasets: 50000\n"
     ]
    }
   ],
   "source": [
    "num_train = len(train_data)\n",
    "print(\"Total number of images available in CIFAR10 datasets: {}\".format(num_train))"
   ]
  },
  {
   "cell_type": "code",
   "execution_count": 98,
   "metadata": {},
   "outputs": [
    {
     "data": {
      "text/plain": [
       "[0, 1, 2, 3, 4]"
      ]
     },
     "execution_count": 98,
     "metadata": {},
     "output_type": "execute_result"
    }
   ],
   "source": [
    "indices = list(range(num_train))\n",
    "indices[:5]"
   ]
  },
  {
   "cell_type": "code",
   "execution_count": 99,
   "metadata": {},
   "outputs": [
    {
     "data": {
      "text/plain": [
       "[3175, 11448, 29630, 5233, 1524]"
      ]
     },
     "execution_count": 99,
     "metadata": {},
     "output_type": "execute_result"
    }
   ],
   "source": [
    "np.random.shuffle(indices)\n",
    "indices[:5]"
   ]
  },
  {
   "cell_type": "code",
   "execution_count": 100,
   "metadata": {},
   "outputs": [
    {
     "data": {
      "text/plain": [
       "[3175, 11448, 29630, 5233, 1524]"
      ]
     },
     "execution_count": 100,
     "metadata": {},
     "output_type": "execute_result"
    },
    {
     "data": {
      "text/plain": [
       "[17435, 41044, 17100, 24491, 15478]"
      ]
     },
     "execution_count": 100,
     "metadata": {},
     "output_type": "execute_result"
    }
   ],
   "source": [
    "split = int(np.floor(num_train * eval_size))\n",
    "train_idx, eval_idx = indices[:split], indices[split:]\n",
    "train_idx[:5]\n",
    "eval_idx[:5]"
   ]
  },
  {
   "cell_type": "code",
   "execution_count": 101,
   "metadata": {},
   "outputs": [],
   "source": [
    "from torch.utils.data.sampler import SubsetRandomSampler"
   ]
  },
  {
   "cell_type": "code",
   "execution_count": 102,
   "metadata": {},
   "outputs": [],
   "source": [
    "train_sampler = SubsetRandomSampler(train_idx)\n",
    "eval_sampler = SubsetRandomSampler(eval_idx)"
   ]
  },
  {
   "cell_type": "code",
   "execution_count": 103,
   "metadata": {},
   "outputs": [],
   "source": [
    "train_loader = torch.utils.data.DataLoader(train_data, batch_size = batch_size,\n",
    "                                           sampler = train_sampler, num_workers = num_workers)\n",
    "eval_loader = torch.utils.data.DataLoader(train_data, batch_size = batch_size,\n",
    "                                          sampler = eval_sampler, num_workers = num_workers)\n",
    "test_loader = torch.utils.data.DataLoader(test_data, batch_size = batch_size,\n",
    "                                          shuffle = False, num_workers = num_workers)"
   ]
  },
  {
   "cell_type": "code",
   "execution_count": 104,
   "metadata": {},
   "outputs": [
    {
     "data": {
      "text/plain": [
       "['airplane',\n",
       " 'automobile',\n",
       " 'bird',\n",
       " 'cat',\n",
       " 'deer',\n",
       " 'dog',\n",
       " 'frog',\n",
       " 'horse',\n",
       " 'ship',\n",
       " 'truck']"
      ]
     },
     "execution_count": 104,
     "metadata": {},
     "output_type": "execute_result"
    }
   ],
   "source": [
    "# specify the image classes\n",
    "classes = ['airplane', 'automobile', 'bird', 'cat', 'deer',\n",
    "           'dog', 'frog', 'horse', 'ship', 'truck']\n",
    "classes"
   ]
  },
  {
   "cell_type": "code",
   "execution_count": 105,
   "metadata": {},
   "outputs": [],
   "source": [
    "dataiter = iter(train_loader)\n",
    "images, labels = next(dataiter)"
   ]
  },
  {
   "cell_type": "code",
   "execution_count": 106,
   "metadata": {},
   "outputs": [
    {
     "data": {
      "text/plain": [
       "torch.Tensor"
      ]
     },
     "execution_count": 106,
     "metadata": {},
     "output_type": "execute_result"
    },
    {
     "data": {
      "text/plain": [
       "20"
      ]
     },
     "execution_count": 106,
     "metadata": {},
     "output_type": "execute_result"
    }
   ],
   "source": [
    "type(images)\n",
    "len(images)"
   ]
  },
  {
   "cell_type": "code",
   "execution_count": 107,
   "metadata": {},
   "outputs": [
    {
     "data": {
      "text/plain": [
       "'bird'"
      ]
     },
     "execution_count": 107,
     "metadata": {},
     "output_type": "execute_result"
    },
    {
     "data": {
      "text/plain": [
       "tensor([[[ 0.4510,  0.4902,  0.4745,  ...,  0.4745,  0.4431,  0.4118],\n",
       "         [ 0.4431,  0.4745,  0.4980,  ...,  0.4667,  0.4196,  0.4039],\n",
       "         [ 0.4118,  0.4667,  0.5529,  ...,  0.4118,  0.4353,  0.4196],\n",
       "         ...,\n",
       "         [ 0.2314,  0.2157,  0.3490,  ..., -0.5686, -0.5608, -0.6627],\n",
       "         [ 0.3490,  0.2863,  0.3647,  ..., -0.6784, -0.6706, -0.8196],\n",
       "         [ 0.3647,  0.4275,  0.4196,  ..., -0.8667, -0.7961, -0.8980]],\n",
       "\n",
       "        [[ 0.2863,  0.3098,  0.2863,  ...,  0.3020,  0.2863,  0.2549],\n",
       "         [ 0.2627,  0.2863,  0.3255,  ...,  0.3020,  0.2549,  0.2392],\n",
       "         [ 0.2314,  0.2941,  0.3961,  ...,  0.2549,  0.2471,  0.2471],\n",
       "         ...,\n",
       "         [ 0.0745,  0.0588,  0.1765,  ..., -0.5294, -0.5059, -0.6157],\n",
       "         [ 0.2000,  0.1529,  0.2157,  ..., -0.6549, -0.6392, -0.7882],\n",
       "         [ 0.2471,  0.3176,  0.3176,  ..., -0.8510, -0.7725, -0.8902]],\n",
       "\n",
       "        [[-0.2000, -0.1686, -0.1922,  ..., -0.1686, -0.1843, -0.2235],\n",
       "         [-0.2235, -0.2000, -0.1294,  ..., -0.1922, -0.2627, -0.2706],\n",
       "         [-0.2627, -0.1765, -0.0275,  ..., -0.1765, -0.2549, -0.2471],\n",
       "         ...,\n",
       "         [-0.3961, -0.4275, -0.3255,  ..., -0.5294, -0.5059, -0.6078],\n",
       "         [-0.2471, -0.2941, -0.2392,  ..., -0.6627, -0.6392, -0.7961],\n",
       "         [-0.2078, -0.1059, -0.1059,  ..., -0.8588, -0.7804, -0.8824]]])"
      ]
     },
     "execution_count": 107,
     "metadata": {},
     "output_type": "execute_result"
    }
   ],
   "source": [
    "classes[labels[0].item()]\n",
    "images[0]"
   ]
  },
  {
   "cell_type": "code",
   "execution_count": 108,
   "metadata": {},
   "outputs": [],
   "source": [
    "# helper function to un-normalize and display an image\n",
    "def imshow(img):\n",
    "    img = img / 2 + 0.5  # unnormalize\n",
    "    plt.imshow(np.transpose(img, (1, 2, 0)))  # convert from Tensor image"
   ]
  },
  {
   "cell_type": "code",
   "execution_count": 109,
   "metadata": {},
   "outputs": [],
   "source": [
    "InteractiveShell.ast_node_interactivity = 'none'"
   ]
  },
  {
   "cell_type": "code",
   "execution_count": 110,
   "metadata": {},
   "outputs": [
    {
     "data": {
      "image/png": "[encoded data removed]",
      "text/plain": [
       "<Figure size 1152x288 with 20 Axes>"
      ]
     },
     "metadata": {},
     "output_type": "display_data"
    }
   ],
   "source": [
    "plt.figure(figsize = (16, 4))\n",
    "for idx in range(len(images)):\n",
    "    ax = plt.subplot(2, 10, idx+1, xticks = [], yticks = [])\n",
    "    imshow(images[idx])\n",
    "    ax.set_title(classes[labels[idx].item()])"
   ]
  },
  {
   "cell_type": "code",
   "execution_count": 111,
   "metadata": {},
   "outputs": [],
   "source": [
    "class Cifar10CNN(nn.Module):\n",
    "    \n",
    "    def __init__(self):\n",
    "        super(Cifar10CNN, self).__init__()\n",
    "        \n",
    "        self.conv1 = nn.Conv2d(in_channels = 3, out_channels = 16, kernel_size = 3,\n",
    "                              stride = 1, padding = 1, bias = True)\n",
    "        \n",
    "        self.conv2 = nn.Conv2d(in_channels = 16, out_channels = 32, kernel_size = 5,\n",
    "                              stride = 1, padding = 2, bias = True)\n",
    "\n",
    "        self.conv3 = nn.Conv2d(in_channels = 32, out_channels = 64, kernel_size = 5,\n",
    "                              stride = 1, padding = 2, bias = True)\n",
    "        \n",
    "        self.pool = nn.MaxPool2d(kernel_size = 2, stride = 2)\n",
    "\n",
    "        self.hidden1 = nn.Linear(in_features = 64 * 4 * 4, out_features = 512, bias = True)\n",
    "\n",
    "        self.hidden2 = nn.Linear(in_features = 512, out_features = 128, bias = True)\n",
    "\n",
    "        self.output = nn.Linear(in_features = 128, out_features = 10, bias = True)\n",
    "        \n",
    "        self.relu = nn.ReLU()\n",
    "        \n",
    "        self.dropout = nn.Dropout(p = 0.20)\n",
    "\n",
    "    def forward(self, x):\n",
    "        \n",
    "        x = self.pool(self.relu(self.conv1(x)))\n",
    "        x = self.pool(self.relu(self.conv2(x)))\n",
    "        x = self.pool(self.relu(self.conv3(x)))\n",
    "        \n",
    "        x = x.view(-1, 64 * 4 * 4)\n",
    "        \n",
    "        x = self.dropout(x)\n",
    "        x = self.relu(self.hidden1(x))\n",
    "        \n",
    "        x = self.dropout(x)\n",
    "        x = self.relu(self.hidden2(x))\n",
    "        \n",
    "        x = self.dropout(x)\n",
    "        x = self.output(x)\n",
    "        \n",
    "        return x        "
   ]
  },
  {
   "cell_type": "code",
   "execution_count": 112,
   "metadata": {},
   "outputs": [],
   "source": [
    "InteractiveShell.ast_node_interactivity = 'all'"
   ]
  },
  {
   "cell_type": "code",
   "execution_count": 113,
   "metadata": {},
   "outputs": [
    {
     "data": {
      "text/plain": [
       "Cifar10CNN(\n",
       "  (conv1): Conv2d(3, 16, kernel_size=(3, 3), stride=(1, 1), padding=(1, 1))\n",
       "  (conv2): Conv2d(16, 32, kernel_size=(5, 5), stride=(1, 1), padding=(2, 2))\n",
       "  (conv3): Conv2d(32, 64, kernel_size=(5, 5), stride=(1, 1), padding=(2, 2))\n",
       "  (pool): MaxPool2d(kernel_size=2, stride=2, padding=0, dilation=1, ceil_mode=False)\n",
       "  (hidden1): Linear(in_features=1024, out_features=512, bias=True)\n",
       "  (hidden2): Linear(in_features=512, out_features=128, bias=True)\n",
       "  (output): Linear(in_features=128, out_features=10, bias=True)\n",
       "  (relu): ReLU()\n",
       "  (dropout): Dropout(p=0.2)\n",
       ")"
      ]
     },
     "execution_count": 113,
     "metadata": {},
     "output_type": "execute_result"
    }
   ],
   "source": [
    "model = Cifar10CNN()\n",
    "model.to(device)"
   ]
  },
  {
   "cell_type": "code",
   "execution_count": 114,
   "metadata": {},
   "outputs": [
    {
     "data": {
      "text/plain": [
       "CrossEntropyLoss()"
      ]
     },
     "execution_count": 114,
     "metadata": {},
     "output_type": "execute_result"
    }
   ],
   "source": [
    "criterion = nn.CrossEntropyLoss()\n",
    "criterion"
   ]
  },
  {
   "cell_type": "code",
   "execution_count": 115,
   "metadata": {},
   "outputs": [
    {
     "data": {
      "text/plain": [
       "SGD (\n",
       "Parameter Group 0\n",
       "    dampening: 0\n",
       "    lr: 0.01\n",
       "    momentum: 0\n",
       "    nesterov: False\n",
       "    weight_decay: 0\n",
       ")"
      ]
     },
     "execution_count": 115,
     "metadata": {},
     "output_type": "execute_result"
    }
   ],
   "source": [
    "optimizer = optim.SGD(model.parameters(), lr = 0.01)\n",
    "optimizer"
   ]
  },
  {
   "cell_type": "code",
   "execution_count": 116,
   "metadata": {},
   "outputs": [],
   "source": [
    "InteractiveShell.ast_node_interactivity = 'none'"
   ]
  },
  {
   "cell_type": "code",
   "execution_count": 117,
   "metadata": {},
   "outputs": [],
   "source": [
    "epochs = 30\n",
    "eval_min_loss = np.Inf"
   ]
  },
  {
   "cell_type": "code",
   "execution_count": 118,
   "metadata": {},
   "outputs": [
    {
     "name": "stdout",
     "output_type": "stream",
     "text": [
      "Epoch 0 : Training Loss: 46.04753771781921 | Evaluation loss: 46.02323052883148\n",
      "Validation loss decreased from inf --> 46.023231\n",
      "Epoch 1 : Training Loss: 45.97739188194275 | Evaluation loss: 45.90122733592987\n",
      "Validation loss decreased from 46.023231 --> 45.901227\n",
      "Epoch 2 : Training Loss: 45.67164846420288 | Evaluation loss: 45.13776130914688\n",
      "Validation loss decreased from 45.901227 --> 45.137761\n",
      "Epoch 3 : Training Loss: 43.446536979675294 | Evaluation loss: 41.49166791677475\n",
      "Validation loss decreased from 45.137761 --> 41.491668\n",
      "Epoch 4 : Training Loss: 40.417065868377684 | Evaluation loss: 39.1995604300499\n",
      "Validation loss decreased from 41.491668 --> 39.199560\n",
      "Epoch 5 : Training Loss: 38.26112216949463 | Evaluation loss: 36.719597824811935\n",
      "Validation loss decreased from 39.199560 --> 36.719598\n",
      "Epoch 6 : Training Loss: 36.39257145404816 | Evaluation loss: 34.80889217495918\n",
      "Validation loss decreased from 36.719598 --> 34.808892\n",
      "Epoch 7 : Training Loss: 34.671529240608216 | Evaluation loss: 32.9215495967865\n",
      "Validation loss decreased from 34.808892 --> 32.921550\n",
      "Epoch 8 : Training Loss: 33.28869661331177 | Evaluation loss: 31.926866317391397\n",
      "Validation loss decreased from 32.921550 --> 31.926866\n",
      "Epoch 9 : Training Loss: 32.11968871116638 | Evaluation loss: 30.749399373531343\n",
      "Validation loss decreased from 31.926866 --> 30.749399\n",
      "Epoch 10 : Training Loss: 31.028526530265808 | Evaluation loss: 30.484322479963303\n",
      "Validation loss decreased from 30.749399 --> 30.484322\n",
      "Epoch 11 : Training Loss: 29.898781254291535 | Evaluation loss: 29.252323170304297\n",
      "Validation loss decreased from 30.484322 --> 29.252323\n",
      "Epoch 12 : Training Loss: 29.241032633781433 | Evaluation loss: 28.318376244306563\n",
      "Validation loss decreased from 29.252323 --> 28.318376\n",
      "Epoch 13 : Training Loss: 28.280042641162872 | Evaluation loss: 27.38072401225567\n",
      "Validation loss decreased from 28.318376 --> 27.380724\n",
      "Epoch 14 : Training Loss: 27.41328689813614 | Evaluation loss: 27.295889326930045\n",
      "Validation loss decreased from 27.380724 --> 27.295889\n",
      "Epoch 15 : Training Loss: 26.915948905944823 | Evaluation loss: 28.154967163205146\n",
      "Epoch 16 : Training Loss: 25.92592756509781 | Evaluation loss: 25.770422602891923\n",
      "Validation loss decreased from 27.295889 --> 25.770423\n",
      "Epoch 17 : Training Loss: 25.167381451129913 | Evaluation loss: 26.3666603654623\n",
      "Epoch 18 : Training Loss: 24.62131996154785 | Evaluation loss: 25.912247288823128\n",
      "Epoch 19 : Training Loss: 23.80417757511139 | Evaluation loss: 24.845277410149574\n",
      "Validation loss decreased from 25.770423 --> 24.845277\n",
      "Epoch 20 : Training Loss: 23.113785879611967 | Evaluation loss: 23.987816096544265\n",
      "Validation loss decreased from 24.845277 --> 23.987816\n",
      "Epoch 21 : Training Loss: 22.250870859622957 | Evaluation loss: 24.61479306012392\n",
      "Epoch 22 : Training Loss: 21.78714163661003 | Evaluation loss: 23.28819011926651\n",
      "Validation loss decreased from 23.987816 --> 23.288190\n",
      "Epoch 23 : Training Loss: 20.82343011856079 | Evaluation loss: 22.481292768716813\n",
      "Validation loss decreased from 23.288190 --> 22.481293\n",
      "Epoch 24 : Training Loss: 20.090977771282198 | Evaluation loss: 22.499822818040847\n",
      "Epoch 25 : Training Loss: 19.459615833759308 | Evaluation loss: 22.20131029307842\n",
      "Validation loss decreased from 22.481293 --> 22.201310\n",
      "Epoch 26 : Training Loss: 18.66357327103615 | Evaluation loss: 21.886339965462685\n",
      "Validation loss decreased from 22.201310 --> 21.886340\n",
      "Epoch 27 : Training Loss: 18.06049739718437 | Evaluation loss: 21.61406790614128\n",
      "Validation loss decreased from 21.886340 --> 21.614068\n",
      "Epoch 28 : Training Loss: 17.260546283721922 | Evaluation loss: 22.241624015569688\n",
      "Epoch 29 : Training Loss: 16.52715109348297 | Evaluation loss: 21.88202228784561\n"
     ]
    }
   ],
   "source": [
    "for epoch in range(epochs):\n",
    "    \n",
    "    training_loss = 0.0\n",
    "    eval_loss = 0.0\n",
    "    model.train()\n",
    "    for images, labels in train_loader:\n",
    "        \n",
    "        optimizer.zero_grad()\n",
    "        \n",
    "        images, labels = images.to(device), labels.to(device)\n",
    "        \n",
    "        output_predicted = model(images)\n",
    "        loss = criterion(output_predicted, labels)\n",
    "        loss.backward()\n",
    "        optimizer.step()\n",
    "        \n",
    "        training_loss += loss.item()*labels.size(0)\n",
    "    else: \n",
    "        model.eval()\n",
    "        with torch.no_grad():\n",
    "\n",
    "            for eval_images, eval_labels in eval_loader:\n",
    "\n",
    "                eval_images, eval_labels = eval_images.to(device), eval_labels.to(device)\n",
    "\n",
    "                output_score = model(eval_images)\n",
    "                loss = criterion(output_score, eval_labels)\n",
    "\n",
    "                eval_loss += loss.item() * eval_labels.size(0)\n",
    "            else:\n",
    "                avg_train_loss = training_loss/len(train_loader)\n",
    "                avg_eval_loss = eval_loss/len(eval_loader)\n",
    "                \n",
    "                print(\"Epoch {} : Training Loss: {} | Evaluation loss: {}\"\n",
    "                      .format(epoch, avg_train_loss, avg_eval_loss)\n",
    "                     )\n",
    "\n",
    "                if avg_eval_loss < eval_min_loss:\n",
    "                    \n",
    "                    print(\"Validation loss decreased from {:.6f} --> {:.6f}\".format(eval_min_loss, avg_eval_loss))\n",
    "                    \n",
    "                    eval_min_loss = avg_eval_loss\n",
    "\n",
    "                    torch.save(model.state_dict(), 'cnn_cifar10.pt')"
   ]
  }
 ],
 "metadata": {
  "kernelspec": {
   "display_name": "Python 3",
   "language": "python",
   "name": "python3"
  },
  "language_info": {
   "codemirror_mode": {
    "name": "ipython",
    "version": 3
   },
   "file_extension": ".py",
   "mimetype": "text/x-python",
   "name": "python",
   "nbconvert_exporter": "python",
   "pygments_lexer": "ipython3",
   "version": "3.6.8"
  }
 },
 "nbformat": 4,
 "nbformat_minor": 2
}
