{
 "cells": [
  {
   "cell_type": "code",
   "execution_count": 402,
   "metadata": {},
   "outputs": [],
   "source": [
    "from IPython.core.interactiveshell import InteractiveShell\n",
    "InteractiveShell.ast_node_interactivity = 'all'"
   ]
  },
  {
   "cell_type": "code",
   "execution_count": 403,
   "metadata": {},
   "outputs": [],
   "source": [
    "import numpy as np\n",
    "import matplotlib.pyplot as plt\n",
    "%matplotlib inline"
   ]
  },
  {
   "cell_type": "code",
   "execution_count": 404,
   "metadata": {},
   "outputs": [],
   "source": [
    "import torch\n",
    "import torch.nn.functional as F\n",
    "from torch import nn, optim\n",
    "from torchvision import datasets, transforms, models\n",
    "from torch.autograd import Variable"
   ]
  },
  {
   "cell_type": "code",
   "execution_count": 405,
   "metadata": {},
   "outputs": [
    {
     "data": {
      "text/plain": [
       "device(type='cuda', index=0)"
      ]
     },
     "execution_count": 405,
     "metadata": {},
     "output_type": "execute_result"
    }
   ],
   "source": [
    "device = torch.device(\"cuda:0\" if torch.cuda.is_available() else \"cpu\")\n",
    "device"
   ]
  },
  {
   "cell_type": "code",
   "execution_count": 406,
   "metadata": {},
   "outputs": [],
   "source": [
    "eval_size = 0.2\n",
    "num_workers = 0\n",
    "batch_size = 20"
   ]
  },
  {
   "cell_type": "code",
   "execution_count": 407,
   "metadata": {},
   "outputs": [
    {
     "name": "stdout",
     "output_type": "stream",
     "text": [
      "Files already downloaded and verified\n",
      "Files already downloaded and verified\n"
     ]
    }
   ],
   "source": [
    "transform = transforms.Compose([\n",
    "    transforms.ToTensor(),\n",
    "    transforms.Normalize((0.5,0.5,0.5), (0.5,0.5,0.5))\n",
    "])\n",
    "\n",
    "train_data = datasets.CIFAR10(root= \"data\", download = True, train = True, transform = transform)\n",
    "test_data = datasets.CIFAR10(root= \"data\", download = True, train = False, transform = transform)"
   ]
  },
  {
   "cell_type": "code",
   "execution_count": 408,
   "metadata": {},
   "outputs": [
    {
     "name": "stdout",
     "output_type": "stream",
     "text": [
      "Total number of images available in CIFAR10 datasets: 50000\n"
     ]
    }
   ],
   "source": [
    "num_train = len(train_data)\n",
    "print(\"Total number of images available in CIFAR10 datasets: {}\".format(num_train))"
   ]
  },
  {
   "cell_type": "code",
   "execution_count": 409,
   "metadata": {},
   "outputs": [
    {
     "data": {
      "text/plain": [
       "[0, 1, 2, 3, 4]"
      ]
     },
     "execution_count": 409,
     "metadata": {},
     "output_type": "execute_result"
    }
   ],
   "source": [
    "indices = list(range(num_train))\n",
    "indices[:5]"
   ]
  },
  {
   "cell_type": "code",
   "execution_count": 410,
   "metadata": {},
   "outputs": [
    {
     "data": {
      "text/plain": [
       "[26530, 40151, 25464, 7398, 3456]"
      ]
     },
     "execution_count": 410,
     "metadata": {},
     "output_type": "execute_result"
    }
   ],
   "source": [
    "np.random.shuffle(indices)\n",
    "indices[:5]"
   ]
  },
  {
   "cell_type": "code",
   "execution_count": 411,
   "metadata": {},
   "outputs": [
    {
     "data": {
      "text/plain": [
       "[26530, 40151, 25464, 7398, 3456]"
      ]
     },
     "execution_count": 411,
     "metadata": {},
     "output_type": "execute_result"
    },
    {
     "data": {
      "text/plain": [
       "[22399, 40686, 21206, 30596, 5178]"
      ]
     },
     "execution_count": 411,
     "metadata": {},
     "output_type": "execute_result"
    }
   ],
   "source": [
    "split = int(np.floor(num_train * eval_size))\n",
    "train_idx, eval_idx = indices[:split], indices[split:]\n",
    "train_idx[:5]\n",
    "eval_idx[:5]"
   ]
  },
  {
   "cell_type": "code",
   "execution_count": 412,
   "metadata": {},
   "outputs": [],
   "source": [
    "from torch.utils.data.sampler import SubsetRandomSampler"
   ]
  },
  {
   "cell_type": "code",
   "execution_count": 413,
   "metadata": {},
   "outputs": [],
   "source": [
    "train_sampler = SubsetRandomSampler(train_idx)\n",
    "eval_sampler = SubsetRandomSampler(eval_idx)"
   ]
  },
  {
   "cell_type": "code",
   "execution_count": 414,
   "metadata": {},
   "outputs": [],
   "source": [
    "train_loader = torch.utils.data.DataLoader(train_data, batch_size = batch_size,\n",
    "                                           sampler = train_sampler, num_workers = num_workers)\n",
    "eval_loader = torch.utils.data.DataLoader(train_data, batch_size = batch_size,\n",
    "                                          sampler = eval_sampler, num_workers = num_workers)\n",
    "test_loader = torch.utils.data.DataLoader(test_data, batch_size = batch_size,\n",
    "                                          shuffle = False, num_workers = num_workers)"
   ]
  },
  {
   "cell_type": "code",
   "execution_count": 415,
   "metadata": {},
   "outputs": [
    {
     "data": {
      "text/plain": [
       "['airplane',\n",
       " 'automobile',\n",
       " 'bird',\n",
       " 'cat',\n",
       " 'deer',\n",
       " 'dog',\n",
       " 'frog',\n",
       " 'horse',\n",
       " 'ship',\n",
       " 'truck']"
      ]
     },
     "execution_count": 415,
     "metadata": {},
     "output_type": "execute_result"
    }
   ],
   "source": [
    "# specify the image classes\n",
    "classes = ['airplane', 'automobile', 'bird', 'cat', 'deer',\n",
    "           'dog', 'frog', 'horse', 'ship', 'truck']\n",
    "classes"
   ]
  },
  {
   "cell_type": "code",
   "execution_count": 416,
   "metadata": {},
   "outputs": [],
   "source": [
    "dataiter = iter(train_loader)\n",
    "images, labels = next(dataiter)"
   ]
  },
  {
   "cell_type": "code",
   "execution_count": 417,
   "metadata": {},
   "outputs": [
    {
     "data": {
      "text/plain": [
       "torch.Tensor"
      ]
     },
     "execution_count": 417,
     "metadata": {},
     "output_type": "execute_result"
    },
    {
     "data": {
      "text/plain": [
       "20"
      ]
     },
     "execution_count": 417,
     "metadata": {},
     "output_type": "execute_result"
    }
   ],
   "source": [
    "type(images)\n",
    "len(images)"
   ]
  },
  {
   "cell_type": "code",
   "execution_count": 418,
   "metadata": {},
   "outputs": [
    {
     "data": {
      "text/plain": [
       "'automobile'"
      ]
     },
     "execution_count": 418,
     "metadata": {},
     "output_type": "execute_result"
    },
    {
     "data": {
      "text/plain": [
       "tensor([[[ 0.2314,  0.2471,  0.4588,  ...,  0.6078,  0.3255,  0.0196],\n",
       "         [ 0.1451,  0.4275,  0.7569,  ...,  0.5608,  0.3255, -0.0039],\n",
       "         [ 0.3255,  0.7098,  0.8980,  ...,  0.2392,  0.1373,  0.1216],\n",
       "         ...,\n",
       "         [ 0.0353, -0.0196, -0.0745,  ...,  0.1922,  0.1765,  0.1608],\n",
       "         [ 0.0745,  0.0510,  0.0667,  ...,  0.1843,  0.1843,  0.1529],\n",
       "         [ 0.1608,  0.1686,  0.1765,  ...,  0.1922,  0.1843,  0.1765]],\n",
       "\n",
       "        [[ 0.2157,  0.2078,  0.4275,  ...,  0.6000,  0.3255,  0.0275],\n",
       "         [ 0.1294,  0.3961,  0.7490,  ...,  0.5529,  0.3255, -0.0196],\n",
       "         [ 0.2706,  0.6863,  0.8902,  ...,  0.2549,  0.1686,  0.1059],\n",
       "         ...,\n",
       "         [-0.0824, -0.1373, -0.2157,  ..., -0.0431, -0.0275, -0.0353],\n",
       "         [-0.0510, -0.0824, -0.1059,  ..., -0.0275,  0.0118, -0.0118],\n",
       "         [-0.0039,  0.0039, -0.0118,  ...,  0.0039,  0.0275,  0.0196]],\n",
       "\n",
       "        [[ 0.1294,  0.1686,  0.4118,  ...,  0.5529,  0.1922, -0.2235],\n",
       "         [-0.0039,  0.3490,  0.7569,  ...,  0.5059,  0.1686, -0.2863],\n",
       "         [ 0.1686,  0.6784,  0.9216,  ...,  0.0980, -0.0745, -0.1137],\n",
       "         ...,\n",
       "         [-0.0902, -0.1451, -0.2314,  ..., -0.1216, -0.1216, -0.1373],\n",
       "         [-0.0588, -0.0824, -0.1059,  ..., -0.1216, -0.0980, -0.1059],\n",
       "         [-0.0039,  0.0118, -0.0118,  ..., -0.0667, -0.0510, -0.0431]]])"
      ]
     },
     "execution_count": 418,
     "metadata": {},
     "output_type": "execute_result"
    }
   ],
   "source": [
    "classes[labels[0].item()]\n",
    "images[0]"
   ]
  },
  {
   "cell_type": "code",
   "execution_count": 419,
   "metadata": {},
   "outputs": [],
   "source": [
    "# helper function to un-normalize and display an image\n",
    "def imshow(img):\n",
    "    img = img / 2 + 0.5  # unnormalize\n",
    "    plt.imshow(np.transpose(img, (1, 2, 0)))  # convert from Tensor image"
   ]
  },
  {
   "cell_type": "code",
   "execution_count": 420,
   "metadata": {},
   "outputs": [],
   "source": [
    "InteractiveShell.ast_node_interactivity = 'none'"
   ]
  },
  {
   "cell_type": "code",
   "execution_count": 421,
   "metadata": {},
   "outputs": [
    {
     "data": {
      "image/png": "[encoded data removed]",
      "text/plain": [
       "<Figure size 1152x288 with 20 Axes>"
      ]
     },
     "metadata": {},
     "output_type": "display_data"
    }
   ],
   "source": [
    "plt.figure(figsize = (16, 4))\n",
    "for idx in range(len(images)):\n",
    "    ax = plt.subplot(2, 10, idx+1, xticks = [], yticks = [])\n",
    "    imshow(images[idx])\n",
    "    ax.set_title(classes[labels[idx].item()])"
   ]
  },
  {
   "cell_type": "code",
   "execution_count": 422,
   "metadata": {},
   "outputs": [],
   "source": [
    "InteractiveShell.ast_node_interactivity = 'all'"
   ]
  },
  {
   "cell_type": "code",
   "execution_count": 423,
   "metadata": {},
   "outputs": [
    {
     "data": {
      "text/plain": [
       "torch.Size([3, 32, 32])"
      ]
     },
     "execution_count": 423,
     "metadata": {},
     "output_type": "execute_result"
    },
    {
     "data": {
      "text/plain": [
       "tensor([[[ 0.0745,  0.0588,  0.1137,  ..., -0.2706, -0.2392, -0.1608],\n",
       "         [ 0.1216,  0.1294,  0.1686,  ..., -0.1529, -0.1765, -0.1608],\n",
       "         [ 0.0745,  0.0902,  0.1451,  ...,  0.1294,  0.0745,  0.0353],\n",
       "         ...,\n",
       "         [ 0.2941,  0.2314,  0.2392,  ...,  0.4431,  0.4275,  0.4275],\n",
       "         [ 0.2392,  0.2314,  0.2392,  ...,  0.4824,  0.4980,  0.4588],\n",
       "         [ 0.2235,  0.2392,  0.2549,  ...,  0.4745,  0.4745,  0.4431]],\n",
       "\n",
       "        [[ 0.0588,  0.0510,  0.1137,  ..., -0.3412, -0.3098, -0.2314],\n",
       "         [ 0.1137,  0.1216,  0.1686,  ..., -0.2000, -0.2235, -0.2000],\n",
       "         [ 0.0824,  0.0980,  0.1529,  ...,  0.1137,  0.0588,  0.0196],\n",
       "         ...,\n",
       "         [ 0.2863,  0.2235,  0.2314,  ...,  0.4118,  0.3961,  0.4039],\n",
       "         [ 0.2314,  0.2235,  0.2314,  ...,  0.4510,  0.4667,  0.4275],\n",
       "         [ 0.2157,  0.2314,  0.2471,  ...,  0.4431,  0.4431,  0.4118]],\n",
       "\n",
       "        [[ 0.0588,  0.0118, -0.0039,  ..., -0.5059, -0.4902, -0.4275],\n",
       "         [ 0.0824,  0.0902,  0.0824,  ..., -0.3255, -0.3569, -0.3569],\n",
       "         [ 0.0196,  0.0588,  0.0824,  ...,  0.0353, -0.0275, -0.0824],\n",
       "         ...,\n",
       "         [ 0.2706,  0.2078,  0.2157,  ...,  0.3882,  0.3725,  0.3804],\n",
       "         [ 0.2157,  0.2078,  0.2157,  ...,  0.4431,  0.4667,  0.4275],\n",
       "         [ 0.2000,  0.2157,  0.2314,  ...,  0.4431,  0.4431,  0.4118]]])"
      ]
     },
     "execution_count": 423,
     "metadata": {},
     "output_type": "execute_result"
    }
   ],
   "source": [
    "display_image = np.squeeze(images[4])\n",
    "display_image.shape\n",
    "display_image"
   ]
  },
  {
   "cell_type": "code",
   "execution_count": 424,
   "metadata": {},
   "outputs": [],
   "source": [
    "InteractiveShell.ast_node_interactivity = 'none'"
   ]
  },
  {
   "cell_type": "code",
   "execution_count": 425,
   "metadata": {},
   "outputs": [],
   "source": [
    "display_image = torch.Tensor.numpy(display_image)"
   ]
  },
  {
   "cell_type": "code",
   "execution_count": 426,
   "metadata": {},
   "outputs": [],
   "source": [
    "InteractiveShell.ast_node_interactivity = 'all'"
   ]
  },
  {
   "cell_type": "code",
   "execution_count": 427,
   "metadata": {},
   "outputs": [
    {
     "data": {
      "text/plain": [
       "(3, 32, 32)"
      ]
     },
     "execution_count": 427,
     "metadata": {},
     "output_type": "execute_result"
    },
    {
     "data": {
      "text/plain": [
       "numpy.ndarray"
      ]
     },
     "execution_count": 427,
     "metadata": {},
     "output_type": "execute_result"
    }
   ],
   "source": [
    "display_image.shape\n",
    "type(display_image)"
   ]
  },
  {
   "cell_type": "code",
   "execution_count": 428,
   "metadata": {},
   "outputs": [],
   "source": [
    "InteractiveShell.ast_node_interactivity = 'none'"
   ]
  },
  {
   "cell_type": "code",
   "execution_count": 429,
   "metadata": {},
   "outputs": [],
   "source": [
    "channels = [\"Red Channel\", \"Green Channel\", \"Blue Channel\"]"
   ]
  },
  {
   "cell_type": "code",
   "execution_count": 430,
   "metadata": {},
   "outputs": [
    {
     "data": {
      "text/plain": [
       "<Figure size 2304x2304 with 0 Axes>"
      ]
     },
     "metadata": {},
     "output_type": "display_data"
    }
   ],
   "source": [
    "display_image_fig = plt.figure(figsize = (32, 32))"
   ]
  },
  {
   "cell_type": "code",
   "execution_count": 431,
   "metadata": {},
   "outputs": [],
   "source": [
    "for id_image in range(display_image.shape[0]):\n",
    "    display_image_ax = display_image_fig.add_subplot(1, 3, id_image + 1)\n",
    "    img = display_image[id_image]\n",
    "    \n",
    "    thresh = img.max()/2.5\n",
    "    \n",
    "    display_image_ax.imshow(img, cmap = 'gray')\n",
    "    display_image_ax.set_title(channels[id_image])\n",
    "    \n",
    "    width, height = img.shape\n",
    "    for idx in range(width):\n",
    "        for idy in range(height):\n",
    "            val = round(img[idx][idy], 2) if img[idx][idy] != 0 else 0\n",
    "            display_image_ax.annotate(str(val), xy = (idx, idy),\n",
    "                                      color = 'white' if val < thresh else 'black'\n",
    "                         \n",
    "                                     )"
   ]
  },
  {
   "cell_type": "code",
   "execution_count": null,
   "metadata": {},
   "outputs": [],
   "source": [
    "class Cifar10CNN(nn.Module):\n",
    "    \n",
    "    def __init__(self):\n",
    "        super(Cifar10CNN, self).__init__()\n",
    "        \n",
    "        self.conv1 = nn.Conv2d(in_channels = 3, out_channels = 16, kernel_size = 3,\n",
    "                              stride = 1, padding = 1, bias = True)\n",
    "        \n",
    "        self.conv2 = nn.Conv2d(in_channels = 16, out_channels = 32, kernel_size = 5,\n",
    "                              stride = 1, padding = 2, bias = True)\n",
    "\n",
    "        self.conv3 = nn.Conv2d(in_channels = 32, out_channels = 64, kernel_size = 5,\n",
    "                              stride = 1, padding = 2, bias = True)\n",
    "        \n",
    "        self.pool = nn.MaxPool2d(kernel_size = 2, stride = 2)\n",
    "\n",
    "        self.hidden1 = nn.Linear(in_features = 64 * 4 * 4, out_features = 512, bias = True)\n",
    "\n",
    "        self.hidden2 = nn.Linear(in_features = 512, out_features = 128, bias = True)\n",
    "\n",
    "        self.output = nn.Linear(in_features = 128, out_features = 10, bias = True)\n",
    "        \n",
    "        self.relu = nn.ReLU()\n",
    "        \n",
    "        self.dropout = nn.Dropout(p = 0.20)\n",
    "\n",
    "    def forward(self, x):\n",
    "        \n",
    "        x = self.pool(self.relu(self.conv1(x)))\n",
    "        x = self.pool(self.relu(self.conv2(x)))\n",
    "        x = self.pool(self.relu(self.conv3(x)))\n",
    "        \n",
    "        x = x.view(-1, 64 * 4 * 4)\n",
    "        \n",
    "        x = self.dropout(x)\n",
    "        x = self.relu(self.hidden1(x))\n",
    "        \n",
    "        x = self.dropout(x)\n",
    "        x = self.relu(self.hidden2(x))\n",
    "        \n",
    "        x = self.dropout(x)\n",
    "        x = self.output(x)\n",
    "        \n",
    "        return x        "
   ]
  },
  {
   "cell_type": "code",
   "execution_count": null,
   "metadata": {},
   "outputs": [],
   "source": [
    "InteractiveShell.ast_node_interactivity = 'all'"
   ]
  },
  {
   "cell_type": "code",
   "execution_count": null,
   "metadata": {},
   "outputs": [],
   "source": [
    "model = Cifar10CNN()\n",
    "model.to(device)"
   ]
  },
  {
   "cell_type": "code",
   "execution_count": null,
   "metadata": {},
   "outputs": [],
   "source": [
    "criterion = nn.CrossEntropyLoss()\n",
    "criterion"
   ]
  },
  {
   "cell_type": "code",
   "execution_count": null,
   "metadata": {},
   "outputs": [],
   "source": [
    "optimizer = optim.SGD(model.parameters(), lr = 0.01)\n",
    "optimizer"
   ]
  },
  {
   "cell_type": "code",
   "execution_count": null,
   "metadata": {},
   "outputs": [],
   "source": [
    "InteractiveShell.ast_node_interactivity = 'none'"
   ]
  },
  {
   "cell_type": "code",
   "execution_count": null,
   "metadata": {},
   "outputs": [],
   "source": [
    "epochs = 30\n",
    "eval_min_loss = np.Inf"
   ]
  },
  {
   "cell_type": "code",
   "execution_count": null,
   "metadata": {},
   "outputs": [],
   "source": [
    "for epoch in range(epochs):\n",
    "    \n",
    "    training_loss = 0.0\n",
    "    eval_loss = 0.0\n",
    "    model.train()\n",
    "    for images, labels in train_loader:\n",
    "        \n",
    "        optimizer.zero_grad()\n",
    "        \n",
    "        images, labels = images.to(device), labels.to(device)\n",
    "        \n",
    "        output_predicted = model(images)\n",
    "        loss = criterion(output_predicted, labels)\n",
    "        loss.backward()\n",
    "        optimizer.step()\n",
    "        \n",
    "        training_loss += loss.item()*labels.size(0)\n",
    "    else: \n",
    "        model.eval()\n",
    "        with torch.no_grad():\n",
    "\n",
    "            for eval_images, eval_labels in eval_loader:\n",
    "\n",
    "                eval_images, eval_labels = eval_images.to(device), eval_labels.to(device)\n",
    "\n",
    "                output_score = model(eval_images)\n",
    "                loss = criterion(output_score, eval_labels)\n",
    "\n",
    "                eval_loss += loss.item() * eval_labels.size(0)\n",
    "            else:\n",
    "                avg_train_loss = training_loss/len(train_loader)\n",
    "                avg_eval_loss = eval_loss/len(eval_loader)\n",
    "                \n",
    "                print(\"Epoch {} : Training Loss: {} | Evaluation loss: {}\"\n",
    "                      .format(epoch, avg_train_loss, avg_eval_loss)\n",
    "                     )\n",
    "\n",
    "                if avg_eval_loss < eval_min_loss:\n",
    "                    \n",
    "                    print(\"Validation loss decreased from {:.6f} --> {:.6f}\".format(eval_min_loss, avg_eval_loss))\n",
    "                    \n",
    "                    eval_min_loss = avg_eval_loss\n",
    "\n",
    "                    torch.save(model.state_dict(), 'cnn_cifar10.pt')"
   ]
  },
  {
   "cell_type": "code",
   "execution_count": null,
   "metadata": {},
   "outputs": [],
   "source": [
    "with torch.no_grad():\n",
    "    \n",
    "    test_loss = 0.0\n",
    "    \n",
    "    dataiter = iter(test_loader)\n",
    "    test_image, test_labels = next(dataiter)\n",
    "    print(test_labels)\n",
    "    \n",
    "    test_image, test_labels = test_image.to(device), test_labels.to(device)\n",
    "\n",
    "    output = model(test_image)\n",
    "    pred_pb, pred_class = torch.max(output, 1)\n",
    "    print(pred_class)\n",
    "    \n",
    "    equals = pred_class == test_labels\n",
    "\n",
    "    accuracy = torch.mean(equals.type(torch.FloatTensor))\n",
    "    \n",
    "    test_image, test_labels, pred_class = test_image.to('cpu'), test_labels.to('cpu'), pred_class.to('cpu')"
   ]
  },
  {
   "cell_type": "code",
   "execution_count": null,
   "metadata": {},
   "outputs": [],
   "source": [
    "InteractiveShell.ast_node_interactivity = 'all'"
   ]
  },
  {
   "cell_type": "code",
   "execution_count": null,
   "metadata": {},
   "outputs": [],
   "source": [
    "rows = 2\n",
    "cols = len(test_image)\n",
    "cols"
   ]
  },
  {
   "cell_type": "code",
   "execution_count": null,
   "metadata": {},
   "outputs": [],
   "source": [
    "InteractiveShell.ast_node_interactivity = 'none'"
   ]
  },
  {
   "cell_type": "code",
   "execution_count": null,
   "metadata": {},
   "outputs": [],
   "source": [
    "fig = plt.figure(figsize = (16, 4))\n",
    "\n",
    "for idx in range(cols):\n",
    "    \n",
    "    ax = fig.add_subplot(rows, cols / rows, idx + 1, xticks = [], yticks = [] )\n",
    "    imshow(test_image[idx].to('cpu'))\n",
    "    ax.set_title(' {} ({}) '.format(classes[test_labels[idx]],\n",
    "                                   classes[pred_class[idx]]\n",
    "                                   ),\n",
    "                 color = ( 'green' if test_labels[idx] == pred_class[idx] else 'red')\n",
    "                )"
   ]
  }
 ],
 "metadata": {
  "kernelspec": {
   "display_name": "Python 3",
   "language": "python",
   "name": "python3"
  },
  "language_info": {
   "codemirror_mode": {
    "name": "ipython",
    "version": 3
   },
   "file_extension": ".py",
   "mimetype": "text/x-python",
   "name": "python",
   "nbconvert_exporter": "python",
   "pygments_lexer": "ipython3",
   "version": "3.6.8"
  }
 },
 "nbformat": 4,
 "nbformat_minor": 2
}
