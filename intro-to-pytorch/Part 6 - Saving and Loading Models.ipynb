{
 "cells": [
  {
   "cell_type": "markdown",
   "metadata": {},
   "source": [
    "# Saving and Loading Models\n",
    "\n",
    "In this notebook, I'll show you how to save and load models with PyTorch. This is important because you'll often want to load previously trained models to use in making predictions or to continue training on new data."
   ]
  },
  {
   "cell_type": "code",
   "execution_count": 1,
   "metadata": {},
   "outputs": [],
   "source": [
    "from IPython.core.interactiveshell import InteractiveShell\n",
    "InteractiveShell.ast_node_interactivity = 'all'"
   ]
  },
  {
   "cell_type": "code",
   "execution_count": 2,
   "metadata": {},
   "outputs": [],
   "source": [
    "%matplotlib inline\n",
    "%config InlineBackend.figure_format = 'retina'\n",
    "\n",
    "import matplotlib.pyplot as plt\n",
    "\n",
    "import torch\n",
    "from torch import nn\n",
    "from torch import optim\n",
    "import torch.nn.functional as F\n",
    "from torchvision import datasets, transforms\n",
    "\n",
    "import helper\n",
    "import fc_model"
   ]
  },
  {
   "cell_type": "code",
   "execution_count": 3,
   "metadata": {},
   "outputs": [
    {
     "name": "stdout",
     "output_type": "stream",
     "text": [
      "Downloading http://fashion-mnist.s3-website.eu-central-1.amazonaws.com/train-images-idx3-ubyte.gz\n",
      "Downloading http://fashion-mnist.s3-website.eu-central-1.amazonaws.com/train-labels-idx1-ubyte.gz\n",
      "Downloading http://fashion-mnist.s3-website.eu-central-1.amazonaws.com/t10k-images-idx3-ubyte.gz\n",
      "Downloading http://fashion-mnist.s3-website.eu-central-1.amazonaws.com/t10k-labels-idx1-ubyte.gz\n",
      "Processing...\n",
      "Done!\n"
     ]
    }
   ],
   "source": [
    "# Define a transform to normalize the data\n",
    "transform = transforms.Compose([transforms.ToTensor(),\n",
    "                                transforms.Normalize((0.5,), (0.5,))])\n",
    "# Download and load the training data\n",
    "trainset = datasets.FashionMNIST('F_MNIST_data/', download=True, train=True, transform=transform)\n",
    "trainloader = torch.utils.data.DataLoader(trainset, batch_size=64, shuffle=True)\n",
    "\n",
    "# Download and load the test data\n",
    "testset = datasets.FashionMNIST('F_MNIST_data/', download=True, train=False, transform=transform)\n",
    "testloader = torch.utils.data.DataLoader(testset, batch_size=64, shuffle=True)"
   ]
  },
  {
   "cell_type": "markdown",
   "metadata": {},
   "source": [
    "Here we can see one of the images."
   ]
  },
  {
   "cell_type": "code",
   "execution_count": 4,
   "metadata": {},
   "outputs": [
    {
     "data": {
      "image/png": "[encoded data removed]",
      "text/plain": [
       "<matplotlib.figure.Figure at 0x7fcc2f08c2b0>"
      ]
     },
     "metadata": {
      "image/png": {
       "height": 233,
       "width": 233
      },
      "needs_background": "light"
     },
     "output_type": "display_data"
    }
   ],
   "source": [
    "image, label = next(iter(trainloader))\n",
    "helper.imshow(image[0,:]);"
   ]
  },
  {
   "cell_type": "markdown",
   "metadata": {},
   "source": [
    "# Train a network\n",
    "\n",
    "To make things more concise here, I moved the model architecture and training code from the last part to a file called `fc_model`. Importing this, we can easily create a fully-connected network with `fc_model.Network`, and train the network using `fc_model.train`. I'll use this model (once it's trained) to demonstrate how we can save and load models."
   ]
  },
  {
   "cell_type": "code",
   "execution_count": 5,
   "metadata": {},
   "outputs": [],
   "source": [
    "# Create the network, define the criterion and optimizer\n",
    "\n",
    "model = fc_model.Network(784, 10, [512, 256, 128])\n",
    "criterion = nn.NLLLoss()\n",
    "optimizer = optim.Adam(model.parameters(), lr=0.001)"
   ]
  },
  {
   "cell_type": "code",
   "execution_count": 6,
   "metadata": {},
   "outputs": [
    {
     "name": "stdout",
     "output_type": "stream",
     "text": [
      "Epoch: 1/2..  Training Loss: 1.680..  Test Loss: 0.985..  Test Accuracy: 0.622\n",
      "Epoch: 1/2..  Training Loss: 1.046..  Test Loss: 0.778..  Test Accuracy: 0.692\n",
      "Epoch: 1/2..  Training Loss: 0.870..  Test Loss: 0.679..  Test Accuracy: 0.737\n",
      "Epoch: 1/2..  Training Loss: 0.798..  Test Loss: 0.657..  Test Accuracy: 0.735\n",
      "Epoch: 1/2..  Training Loss: 0.763..  Test Loss: 0.630..  Test Accuracy: 0.758\n",
      "Epoch: 1/2..  Training Loss: 0.698..  Test Loss: 0.611..  Test Accuracy: 0.764\n",
      "Epoch: 1/2..  Training Loss: 0.733..  Test Loss: 0.596..  Test Accuracy: 0.773\n",
      "Epoch: 1/2..  Training Loss: 0.698..  Test Loss: 0.590..  Test Accuracy: 0.775\n",
      "Epoch: 1/2..  Training Loss: 0.675..  Test Loss: 0.552..  Test Accuracy: 0.796\n",
      "Epoch: 1/2..  Training Loss: 0.643..  Test Loss: 0.571..  Test Accuracy: 0.784\n",
      "Epoch: 1/2..  Training Loss: 0.657..  Test Loss: 0.553..  Test Accuracy: 0.795\n",
      "Epoch: 1/2..  Training Loss: 0.643..  Test Loss: 0.515..  Test Accuracy: 0.812\n",
      "Epoch: 1/2..  Training Loss: 0.613..  Test Loss: 0.531..  Test Accuracy: 0.802\n",
      "Epoch: 1/2..  Training Loss: 0.598..  Test Loss: 0.535..  Test Accuracy: 0.800\n",
      "Epoch: 1/2..  Training Loss: 0.611..  Test Loss: 0.533..  Test Accuracy: 0.804\n",
      "Epoch: 1/2..  Training Loss: 0.593..  Test Loss: 0.502..  Test Accuracy: 0.815\n",
      "Epoch: 1/2..  Training Loss: 0.589..  Test Loss: 0.497..  Test Accuracy: 0.817\n",
      "Epoch: 1/2..  Training Loss: 0.616..  Test Loss: 0.500..  Test Accuracy: 0.821\n",
      "Epoch: 1/2..  Training Loss: 0.569..  Test Loss: 0.488..  Test Accuracy: 0.815\n",
      "Epoch: 1/2..  Training Loss: 0.584..  Test Loss: 0.518..  Test Accuracy: 0.810\n",
      "Epoch: 1/2..  Training Loss: 0.562..  Test Loss: 0.480..  Test Accuracy: 0.825\n",
      "Epoch: 1/2..  Training Loss: 0.584..  Test Loss: 0.489..  Test Accuracy: 0.823\n",
      "Epoch: 1/2..  Training Loss: 0.562..  Test Loss: 0.488..  Test Accuracy: 0.821\n",
      "Epoch: 2/2..  Training Loss: 0.524..  Test Loss: 0.476..  Test Accuracy: 0.822\n",
      "Epoch: 2/2..  Training Loss: 0.552..  Test Loss: 0.483..  Test Accuracy: 0.825\n",
      "Epoch: 2/2..  Training Loss: 0.531..  Test Loss: 0.475..  Test Accuracy: 0.827\n",
      "Epoch: 2/2..  Training Loss: 0.563..  Test Loss: 0.469..  Test Accuracy: 0.830\n",
      "Epoch: 2/2..  Training Loss: 0.534..  Test Loss: 0.474..  Test Accuracy: 0.826\n",
      "Epoch: 2/2..  Training Loss: 0.487..  Test Loss: 0.486..  Test Accuracy: 0.822\n",
      "Epoch: 2/2..  Training Loss: 0.545..  Test Loss: 0.463..  Test Accuracy: 0.835\n",
      "Epoch: 2/2..  Training Loss: 0.509..  Test Loss: 0.463..  Test Accuracy: 0.831\n",
      "Epoch: 2/2..  Training Loss: 0.528..  Test Loss: 0.455..  Test Accuracy: 0.831\n",
      "Epoch: 2/2..  Training Loss: 0.492..  Test Loss: 0.452..  Test Accuracy: 0.837\n",
      "Epoch: 2/2..  Training Loss: 0.545..  Test Loss: 0.456..  Test Accuracy: 0.833\n",
      "Epoch: 2/2..  Training Loss: 0.529..  Test Loss: 0.479..  Test Accuracy: 0.823\n",
      "Epoch: 2/2..  Training Loss: 0.504..  Test Loss: 0.451..  Test Accuracy: 0.834\n",
      "Epoch: 2/2..  Training Loss: 0.517..  Test Loss: 0.472..  Test Accuracy: 0.833\n",
      "Epoch: 2/2..  Training Loss: 0.538..  Test Loss: 0.471..  Test Accuracy: 0.825\n",
      "Epoch: 2/2..  Training Loss: 0.568..  Test Loss: 0.456..  Test Accuracy: 0.833\n",
      "Epoch: 2/2..  Training Loss: 0.504..  Test Loss: 0.450..  Test Accuracy: 0.831\n",
      "Epoch: 2/2..  Training Loss: 0.525..  Test Loss: 0.438..  Test Accuracy: 0.840\n",
      "Epoch: 2/2..  Training Loss: 0.486..  Test Loss: 0.448..  Test Accuracy: 0.838\n",
      "Epoch: 2/2..  Training Loss: 0.518..  Test Loss: 0.442..  Test Accuracy: 0.840\n",
      "Epoch: 2/2..  Training Loss: 0.511..  Test Loss: 0.437..  Test Accuracy: 0.839\n",
      "Epoch: 2/2..  Training Loss: 0.511..  Test Loss: 0.450..  Test Accuracy: 0.837\n",
      "Epoch: 2/2..  Training Loss: 0.532..  Test Loss: 0.453..  Test Accuracy: 0.835\n"
     ]
    }
   ],
   "source": [
    "fc_model.train(model, trainloader, testloader, criterion, optimizer, epochs=2)"
   ]
  },
  {
   "cell_type": "markdown",
   "metadata": {},
   "source": [
    "## Saving and loading networks\n",
    "\n",
    "As you can imagine, it's impractical to train a network every time you need to use it. Instead, we can save trained networks then load them later to train more or use them for predictions.\n",
    "\n",
    "The parameters for PyTorch networks are stored in a model's `state_dict`. We can see the state dict contains the weight and bias matrices for each of our layers."
   ]
  },
  {
   "cell_type": "code",
   "execution_count": 8,
   "metadata": {},
   "outputs": [
    {
     "name": "stdout",
     "output_type": "stream",
     "text": [
      "Our model: \n",
      "\n",
      " Network(\n",
      "  (hidden_layers): ModuleList(\n",
      "    (0): Linear(in_features=784, out_features=512, bias=True)\n",
      "    (1): Linear(in_features=512, out_features=256, bias=True)\n",
      "    (2): Linear(in_features=256, out_features=128, bias=True)\n",
      "  )\n",
      "  (output): Linear(in_features=128, out_features=10, bias=True)\n",
      "  (dropout): Dropout(p=0.5)\n",
      ") \n",
      "\n"
     ]
    }
   ],
   "source": [
    "print(\"Our model: \\n\\n\", model, '\\n')"
   ]
  },
  {
   "cell_type": "code",
   "execution_count": 9,
   "metadata": {},
   "outputs": [
    {
     "name": "stdout",
     "output_type": "stream",
     "text": [
      "The state dict: \n",
      "\n",
      " OrderedDict([('hidden_layers.0.weight', tensor([[ 2.2228e-02,  5.0202e-02,  1.5645e-02,  ...,  5.3553e-02,\n",
      "          2.1835e-02,  4.4010e-02],\n",
      "        [ 1.5992e-02,  1.8857e-02,  2.1663e-02,  ...,  5.0041e-02,\n",
      "          5.6574e-02,  3.7394e-02],\n",
      "        [-1.2949e-02,  3.3626e-02,  1.5452e-02,  ...,  2.7045e-02,\n",
      "          7.1585e-03, -1.6410e-02],\n",
      "        ...,\n",
      "        [-1.1781e-02, -3.6934e-02, -4.2823e-02,  ..., -1.4596e-02,\n",
      "         -3.9221e-02, -1.2251e-02],\n",
      "        [-1.2507e-02,  4.9532e-04, -2.0260e-02,  ...,  3.6797e-03,\n",
      "          2.2972e-02, -2.1122e-02],\n",
      "        [ 2.2241e-02,  3.2229e-02,  3.6423e-02,  ..., -1.9576e-02,\n",
      "          4.4272e-02, -2.2025e-02]])), ('hidden_layers.0.bias', tensor(1.00000e-02 *\n",
      "       [-5.8667, -5.8244, -1.3308, -1.9380, -5.0952, -5.2492, -1.8851,\n",
      "        -3.1713, -2.1820,  0.7312, -0.2572, -1.2410, -1.3377, -0.4563,\n",
      "        -0.7769, -1.5751, -0.2156, -1.3774,  1.6499, -4.7371, -4.3495,\n",
      "         5.4101, -4.5930, -3.3414, -3.7830, -1.8538, -3.1167,  1.6462,\n",
      "        -2.9957,  0.1038,  1.9772, -4.3000, -5.0009, -3.6271, -3.5944,\n",
      "        -4.6650,  1.9234,  2.7051, -1.8007, -4.6534,  1.5638, -0.6460,\n",
      "        -3.6600, -2.4777, -2.5249, -2.5729, -4.7584,  1.1533, -4.0063,\n",
      "        -6.3974, -3.9486, -0.2742,  0.7128, -1.9718, -0.1182,  0.5779,\n",
      "        -5.6846,  2.2201, -5.0853, -4.0676, -3.7638, -0.9161, -2.6234,\n",
      "        -3.5431, -4.0027, -1.5872,  0.5486, -0.2916, -4.3839,  0.9707,\n",
      "        -2.1217, -3.3769, -0.4460,  0.0815, -3.4617, -1.2353,  2.5155,\n",
      "         0.6056, -2.2711, -2.8936, -5.2441, -4.7131, -2.7402,  1.9695,\n",
      "         0.4094,  1.9903, -0.8578,  0.7740,  7.8753, -4.7833, -0.1268,\n",
      "        -4.9181,  1.5986, -0.8150,  0.8192, -0.8430, -1.5443, -3.3588,\n",
      "         0.3657, -1.7150, -4.0317, -5.5749, -3.6672,  0.1523, -0.6739,\n",
      "        -2.9559,  2.7331, -3.3804, -1.6144,  0.8431,  4.1768, -1.3509,\n",
      "        -1.8784, -2.6010, -4.0322, -0.7807, -4.0802, -2.8193,  2.4000,\n",
      "        -0.1767, -3.6689,  0.7328, -2.5792,  0.1780, -4.6295, -2.2192,\n",
      "         0.8934, -3.4883, -0.2343,  2.7137, -2.5825, -6.9449, -1.3723,\n",
      "        -3.3412, -1.6979, -1.1784,  0.2090, -5.5543, -2.1674, -0.0033,\n",
      "        -1.0133, -4.1343,  1.5362,  1.3141, -3.1372,  1.7419, -2.4123,\n",
      "        -1.1566, -0.4587, -3.9677,  1.7455, -5.4593, -5.7900,  1.7612,\n",
      "        -0.6802, -2.9143, -1.2257, -3.8868, -1.9759, -1.9581, -4.6951,\n",
      "         1.6188, -2.8680, -2.3705, -7.2276, -4.1648, -3.4132,  0.4800,\n",
      "        -1.5209, -4.0829, -1.4135, -4.7743, -0.9276, -0.8860, -3.4868,\n",
      "        -2.9662,  0.9450, -3.3152, -0.0236, -1.5104, -0.2826, -2.1040,\n",
      "         2.4592, -2.3529, -2.7771,  0.4739, -4.0605, -6.6434, -0.3547,\n",
      "        -3.4463, -4.1326, -1.6842, -4.4690, -6.6537, -2.0964,  1.5312,\n",
      "        -2.4825, -4.1753, -0.6415,  1.8900, -0.7675,  1.0960, -4.2189,\n",
      "        -3.1511, -1.7608, -1.1004, -2.5094, -0.1218,  3.1586, -1.4298,\n",
      "         1.6186, -2.3375, -3.4816, -2.0285,  1.3059, -2.9344, -0.7004,\n",
      "         0.1683,  0.2875,  1.7967,  1.4000, -2.4439,  0.0034, -3.9412,\n",
      "        -4.3287, -2.7947, -2.9808,  1.2237, -3.7157, -1.4503, -2.9402,\n",
      "        -2.9238, -2.9111, -0.0974,  1.8868, -3.6511, -8.0932, -5.2661,\n",
      "        -1.7036, -2.8571, -4.1965, -5.2397, -0.1137, -1.4093,  1.4350,\n",
      "        -3.5353,  1.0836, -1.7538,  0.3741, -0.4203, -0.7093, -0.6035,\n",
      "        -0.8979,  0.2420, -1.5739, -3.7974, -4.3034, -4.9738, -6.2377,\n",
      "        -2.1422, -0.8633, -2.1414, -3.5264,  0.5771, -2.6169, -1.2947,\n",
      "         4.8980, -0.7167, -6.6096, -3.4823,  1.3995, -0.4787, -1.1697,\n",
      "        -1.6887, -4.6513, -5.4387, -0.0675,  0.2657, -3.4761, -2.1196,\n",
      "        -4.0562, -3.5413, -2.1812, -2.4562, -2.5748, -6.0312, -1.2359,\n",
      "        -0.9646,  1.4907, -1.6394, -1.3226, -0.9037, -1.5670, -1.9291,\n",
      "        -0.5695,  0.1945, -0.7044, -0.4204, -2.4999, -1.9044, -6.0372,\n",
      "        -2.3612, -1.0389,  1.1992, -3.3027, -2.8183, -4.1312, -5.2352,\n",
      "         0.3961, -1.4433, -3.7679, -1.6698, -2.3812, -2.9883, -3.6491,\n",
      "        -2.8783, -5.9957, -2.5280, -3.6565,  1.3996, -4.7677, -1.1592,\n",
      "        -4.0432,  1.4663, -3.1116, -5.5073, -3.7246, -5.8915, -0.9854,\n",
      "        -2.3598, -2.9807, -3.2622, -6.7371, -1.1831, -3.4604,  0.0638,\n",
      "        -6.7486, -3.1834, -0.3697, -1.7421,  1.5550,  1.9929, -1.0495,\n",
      "        -5.8118, -2.6465, -3.0324,  0.7129, -4.0892, -5.2626, -2.0640,\n",
      "        -2.3583, -4.7520, -0.1420, -2.0109, -5.1515, -0.7199,  1.0700,\n",
      "        -0.3006, -2.8406, -0.8253, -4.4409, -6.4205, -4.3794,  0.6508,\n",
      "        -4.2313, -0.7540, -4.3297, -0.1775, -0.4844, -1.5890, -3.1141,\n",
      "        -1.9323, -2.1124,  1.5583, -1.9341,  0.8526, -1.5152, -3.4446,\n",
      "        -1.7624,  0.8730, -2.3068, -3.3892, -3.6063, -0.0335,  5.1035,\n",
      "         1.9366, -3.5344, -3.3663, -7.8844, -4.8606, -3.1369, -4.5521,\n",
      "        -0.4677, -4.9804,  1.4863, -5.2114, -3.7070, -3.9257, -3.3136,\n",
      "        -3.8135, -1.7271,  1.4010, -1.0223, -1.6401, -1.2193, -1.9540,\n",
      "        -1.3900,  0.2681, -1.5101, -5.6543, -2.1514, -6.3950,  2.2989,\n",
      "        -2.1145, -2.2705, -2.5899,  0.3249,  0.5195, -1.8949, -1.4179,\n",
      "        -3.1302, -1.6572,  0.3929, -1.5331, -1.1982, -5.8450,  3.3327,\n",
      "        -2.1841, -4.3179, -7.2410,  3.8944, -3.7423, -0.3129, -1.2621,\n",
      "        -2.6597, -4.8834,  1.4359, -6.8133, -1.1575,  0.7842, -4.4470,\n",
      "        -1.7656, -5.0862, -2.5884, -2.7036, -5.4480, -1.8969, -1.8952,\n",
      "        -2.0763, -3.6077,  1.1261, -0.6882, -4.8161, -1.6070, -0.0033,\n",
      "        -3.9303, -1.4181, -1.9809, -5.1698, -0.1507, -0.7430, -3.7657,\n",
      "         5.1973, -3.9257, -3.1739, -4.2088,  1.5705, -4.4542, -3.3723,\n",
      "        -0.7631, -2.2224,  0.2918, -3.6799, -2.9030, -2.7644, -1.4663,\n",
      "        -3.0877, -3.2032, -4.5552, -5.5132,  1.8481, -5.0652, -1.1529,\n",
      "        -2.2882, -2.4532,  1.0913,  0.4728,  1.1106,  5.6098, -6.0551,\n",
      "        -0.6618, -1.6123, -0.8512,  0.4389, -7.7792, -2.5625, -3.5343,\n",
      "        -1.0481, -1.9430, -0.2853, -4.5447, -1.0440, -1.9785,  1.8017,\n",
      "        -2.3221, -1.6228,  1.0444,  2.1696, -2.2360, -2.3518, -1.4209,\n",
      "        -3.9505])), ('hidden_layers.1.weight', tensor([[-4.3399e-02, -1.3664e-01, -4.4562e-02,  ..., -1.0779e-01,\n",
      "          1.7456e-02,  1.6569e-02],\n",
      "        [ 4.7853e-02, -3.3741e-03,  4.6721e-03,  ..., -7.0423e-02,\n",
      "         -2.1906e-02,  1.4812e-02],\n",
      "        [-7.9885e-03,  8.7134e-04, -1.9844e-02,  ...,  2.1810e-02,\n",
      "          1.1410e-02, -7.8277e-03],\n",
      "        ...,\n",
      "        [ 8.0803e-02, -4.2413e-02, -5.4437e-02,  ...,  2.0456e-02,\n",
      "         -1.1891e-02, -4.5737e-02],\n",
      "        [ 1.4092e-02,  1.6941e-02,  9.4063e-03,  ...,  2.0405e-02,\n",
      "         -1.4849e-02,  3.8994e-02],\n",
      "        [-3.8456e-02, -3.7951e-02, -4.8732e-02,  ..., -6.3521e-02,\n",
      "         -1.9856e-03, -1.3636e-02]])), ('hidden_layers.1.bias', tensor([-0.0146,  0.0376, -0.0213,  0.0737,  0.0182, -0.0021,  0.0019,\n",
      "         0.0487, -0.0200, -0.0386,  0.0857,  0.0152,  0.0341,  0.0409,\n",
      "        -0.0303, -0.0181, -0.0099, -0.0033,  0.0320,  0.1712, -0.0280,\n",
      "        -0.0371,  0.0670,  0.0462,  0.0174, -0.0022, -0.0187,  0.0453,\n",
      "        -0.0064,  0.0514, -0.0031,  0.0562,  0.0267, -0.0155,  0.0855,\n",
      "         0.0230,  0.0399,  0.1154,  0.0127,  0.0048,  0.0814,  0.0058,\n",
      "         0.0099, -0.0462, -0.0043, -0.0673, -0.0441,  0.1338, -0.0793,\n",
      "         0.0024, -0.0027, -0.0036,  0.0425,  0.0182, -0.0404, -0.0383,\n",
      "         0.0126, -0.0117, -0.0535,  0.0385,  0.0423,  0.0503,  0.0771,\n",
      "         0.0330,  0.0761, -0.0041,  0.0804,  0.0521,  0.0020,  0.0567,\n",
      "        -0.0493, -0.0147,  0.0242,  0.0479, -0.0414,  0.1058, -0.0534,\n",
      "         0.0103,  0.1171, -0.0684,  0.0233, -0.0465,  0.0313, -0.0531,\n",
      "         0.0219, -0.0179, -0.0354, -0.0385,  0.1128,  0.0146, -0.0187,\n",
      "         0.0689, -0.0588, -0.0162,  0.0533,  0.0339, -0.0200, -0.0025,\n",
      "         0.0456, -0.0126,  0.0476, -0.0210, -0.0222,  0.0260,  0.0882,\n",
      "        -0.0364, -0.0676,  0.0227,  0.1067, -0.0175, -0.0711,  0.0223,\n",
      "        -0.0166,  0.0312,  0.0665,  0.0971, -0.0066,  0.0112, -0.0150,\n",
      "         0.0202,  0.0562,  0.0154,  0.0176,  0.0656, -0.0626, -0.1007,\n",
      "        -0.0221,  0.0425,  0.0244, -0.0535,  0.0151,  0.0165, -0.0531,\n",
      "         0.0028, -0.0532,  0.0726, -0.0095, -0.0113,  0.1025, -0.0200,\n",
      "        -0.0019,  0.0338,  0.0383,  0.0359, -0.0029, -0.0728,  0.0759,\n",
      "        -0.0168, -0.0093, -0.0096,  0.0547,  0.0684,  0.0355,  0.0121,\n",
      "         0.1010,  0.0681, -0.0296,  0.0161,  0.0354, -0.0280, -0.0220,\n",
      "        -0.0649, -0.0146,  0.1016,  0.0234,  0.0479,  0.0194, -0.0256,\n",
      "         0.0089,  0.0022, -0.0121,  0.0528,  0.0168, -0.0110,  0.0532,\n",
      "        -0.0157,  0.0195, -0.0364, -0.0779, -0.0064,  0.0164,  0.0967,\n",
      "         0.0016,  0.0237, -0.0680,  0.0385,  0.0068, -0.0106,  0.0353,\n",
      "         0.0184, -0.0005,  0.0276, -0.0433,  0.1167, -0.0053,  0.0673,\n",
      "        -0.0150,  0.0170, -0.0492,  0.0622,  0.0173,  0.0270,  0.0494,\n",
      "        -0.0320,  0.0974,  0.0245,  0.0740,  0.0328,  0.0518,  0.0754,\n",
      "         0.0344, -0.0231, -0.0479,  0.0015, -0.0586,  0.0807,  0.0236,\n",
      "        -0.0889, -0.0533,  0.0322,  0.0347, -0.0735,  0.0286, -0.0511,\n",
      "         0.0036,  0.0602,  0.0085, -0.0715,  0.0255, -0.0501,  0.0141,\n",
      "         0.0416,  0.0521, -0.0311,  0.0370, -0.0350, -0.0161, -0.0124,\n",
      "        -0.0560, -0.0591,  0.0630,  0.0703,  0.0347, -0.0221,  0.0024,\n",
      "         0.0196,  0.0422, -0.0223, -0.0074, -0.0130,  0.0468,  0.0099,\n",
      "         0.0781,  0.0496,  0.0362, -0.0951])), ('hidden_layers.2.weight', tensor([[-5.0532e-02, -5.2145e-02,  3.4488e-02,  ..., -1.2216e-02,\n",
      "          1.1015e-02, -4.1849e-02],\n",
      "        [-5.2277e-02, -6.7906e-02, -5.8212e-02,  ...,  1.0449e-01,\n",
      "         -7.0604e-02, -1.1584e-01],\n",
      "        [ 4.2576e-02,  8.3544e-02, -1.7266e-02,  ..., -6.7152e-02,\n",
      "         -3.6400e-02, -4.3997e-02],\n",
      "        ...,\n",
      "        [-4.6233e-03, -4.3046e-03, -1.0030e-01,  ...,  9.5999e-03,\n",
      "         -8.4812e-02, -2.3148e-02],\n",
      "        [ 3.2478e-02,  4.2094e-02, -3.3676e-02,  ..., -7.7792e-02,\n",
      "         -1.2977e-03, -2.0575e-02],\n",
      "        [-3.8721e-02, -2.0654e-02, -2.0441e-02,  ...,  8.0234e-02,\n",
      "         -2.7330e-02,  2.1568e-02]])), ('hidden_layers.2.bias', tensor([ 0.1495,  0.0335,  0.0289,  0.0754,  0.0738,  0.0038,  0.1361,\n",
      "        -0.0053,  0.0848,  0.0570,  0.1412,  0.0404, -0.0174,  0.0383,\n",
      "         0.0383,  0.1912,  0.0038, -0.0324,  0.0539,  0.1142, -0.0778,\n",
      "         0.0359,  0.0303,  0.1913,  0.0654, -0.0511,  0.0726,  0.0425,\n",
      "         0.0500,  0.1313,  0.0326,  0.0900,  0.0640,  0.0479, -0.0136,\n",
      "         0.2031,  0.1060, -0.0055,  0.0843,  0.1146,  0.0046,  0.1085,\n",
      "         0.0266,  0.0754, -0.0073,  0.0390,  0.0272,  0.0598, -0.0652,\n",
      "         0.0448,  0.1002, -0.0198,  0.1721,  0.0170,  0.2151,  0.0830,\n",
      "         0.0903,  0.0273,  0.1889, -0.0055,  0.0261,  0.1098,  0.0527,\n",
      "        -0.0278,  0.0612,  0.0900,  0.0325,  0.1549,  0.0466,  0.0010,\n",
      "         0.1044,  0.0676,  0.0638,  0.0291,  0.0418, -0.0795, -0.0053,\n",
      "         0.0688,  0.0499,  0.0075,  0.0783,  0.0273,  0.0438,  0.0792,\n",
      "         0.0069,  0.1249,  0.1645,  0.0261,  0.1224,  0.1278,  0.0543,\n",
      "         0.0391,  0.0641,  0.0693,  0.0760,  0.0591, -0.0528,  0.1020,\n",
      "        -0.0406,  0.0648,  0.1468,  0.0644,  0.1063, -0.0063,  0.0181,\n",
      "         0.0172,  0.1388,  0.0926,  0.0468,  0.0371, -0.0491,  0.0446,\n",
      "         0.0602,  0.0359, -0.0054,  0.0384,  0.1288,  0.0512,  0.0999,\n",
      "         0.1040,  0.0889, -0.0364,  0.0318,  0.0867,  0.0939,  0.0377,\n",
      "         0.0673,  0.0504])), ('output.weight', tensor([[-0.0365, -0.0541,  0.0409,  ..., -0.0370, -0.0592, -0.0765],\n",
      "        [-0.0681, -0.0521,  0.0314,  ..., -0.1031,  0.0264, -0.1139],\n",
      "        [ 0.0780,  0.0599, -0.0692,  ...,  0.0680, -0.0622,  0.0594],\n",
      "        ...,\n",
      "        [-0.1671, -0.0978, -0.0508,  ...,  0.0273, -0.0438, -0.0691],\n",
      "        [ 0.0565, -0.1305, -0.1736,  ..., -0.0654, -0.0379,  0.0662],\n",
      "        [-0.2154,  0.0012, -0.0641,  ..., -0.0507, -0.0214, -0.0432]])), ('output.bias', tensor([-0.1234, -0.2242,  0.0499,  0.0316,  0.0147, -0.0574,  0.0657,\n",
      "        -0.0906, -0.0553, -0.1881]))])\n"
     ]
    }
   ],
   "source": [
    "print(\"The state dict: \\n\\n\", model.state_dict())"
   ]
  },
  {
   "cell_type": "code",
   "execution_count": 10,
   "metadata": {},
   "outputs": [
    {
     "name": "stdout",
     "output_type": "stream",
     "text": [
      "The state dict keys: \n",
      "\n",
      " odict_keys(['hidden_layers.0.weight', 'hidden_layers.0.bias', 'hidden_layers.1.weight', 'hidden_layers.1.bias', 'hidden_layers.2.weight', 'hidden_layers.2.bias', 'output.weight', 'output.bias'])\n"
     ]
    }
   ],
   "source": [
    "print(\"The state dict keys: \\n\\n\", model.state_dict().keys())"
   ]
  },
  {
   "cell_type": "markdown",
   "metadata": {},
   "source": [
    "The simplest thing to do is simply save the state dict with `torch.save`. For example, we can save it to a file `'checkpoint.pth'`."
   ]
  },
  {
   "cell_type": "code",
   "execution_count": 11,
   "metadata": {},
   "outputs": [],
   "source": [
    "torch.save(model.state_dict(), 'checkpoint.pth')"
   ]
  },
  {
   "cell_type": "markdown",
   "metadata": {},
   "source": [
    "Then we can load the state dict with `torch.load`."
   ]
  },
  {
   "cell_type": "code",
   "execution_count": 12,
   "metadata": {},
   "outputs": [
    {
     "name": "stdout",
     "output_type": "stream",
     "text": [
      "odict_keys(['hidden_layers.0.weight', 'hidden_layers.0.bias', 'hidden_layers.1.weight', 'hidden_layers.1.bias', 'hidden_layers.2.weight', 'hidden_layers.2.bias', 'output.weight', 'output.bias'])\n"
     ]
    }
   ],
   "source": [
    "state_dict = torch.load('checkpoint.pth')\n",
    "print(state_dict.keys())"
   ]
  },
  {
   "cell_type": "markdown",
   "metadata": {},
   "source": [
    "And to load the state dict in to the network, you do `model.load_state_dict(state_dict)`."
   ]
  },
  {
   "cell_type": "code",
   "execution_count": 13,
   "metadata": {},
   "outputs": [],
   "source": [
    "model.load_state_dict(state_dict)"
   ]
  },
  {
   "cell_type": "markdown",
   "metadata": {},
   "source": [
    "Seems pretty straightforward, but as usual it's a bit more complicated. Loading the state dict works only if the model architecture is exactly the same as the checkpoint architecture. If I create a model with a different architecture, this fails."
   ]
  },
  {
   "cell_type": "code",
   "execution_count": 14,
   "metadata": {},
   "outputs": [
    {
     "ename": "RuntimeError",
     "evalue": "Error(s) in loading state_dict for Network:\n\tWhile copying the parameter named \"hidden_layers.0.weight\", whose dimensions in the model are torch.Size([400, 784]) and whose dimensions in the checkpoint are torch.Size([512, 784]).\n\tWhile copying the parameter named \"hidden_layers.0.bias\", whose dimensions in the model are torch.Size([400]) and whose dimensions in the checkpoint are torch.Size([512]).\n\tWhile copying the parameter named \"hidden_layers.1.weight\", whose dimensions in the model are torch.Size([200, 400]) and whose dimensions in the checkpoint are torch.Size([256, 512]).\n\tWhile copying the parameter named \"hidden_layers.1.bias\", whose dimensions in the model are torch.Size([200]) and whose dimensions in the checkpoint are torch.Size([256]).\n\tWhile copying the parameter named \"hidden_layers.2.weight\", whose dimensions in the model are torch.Size([100, 200]) and whose dimensions in the checkpoint are torch.Size([128, 256]).\n\tWhile copying the parameter named \"hidden_layers.2.bias\", whose dimensions in the model are torch.Size([100]) and whose dimensions in the checkpoint are torch.Size([128]).\n\tWhile copying the parameter named \"output.weight\", whose dimensions in the model are torch.Size([10, 100]) and whose dimensions in the checkpoint are torch.Size([10, 128]).",
     "output_type": "error",
     "traceback": [
      "\u001b[0;31m---------------------------------------------------------------------------\u001b[0m",
      "\u001b[0;31mRuntimeError\u001b[0m                              Traceback (most recent call last)",
      "\u001b[0;32m<ipython-input-14-d859c59ebec0>\u001b[0m in \u001b[0;36m<module>\u001b[0;34m()\u001b[0m\n\u001b[1;32m      2\u001b[0m \u001b[0mmodel\u001b[0m \u001b[0;34m=\u001b[0m \u001b[0mfc_model\u001b[0m\u001b[0;34m.\u001b[0m\u001b[0mNetwork\u001b[0m\u001b[0;34m(\u001b[0m\u001b[0;36m784\u001b[0m\u001b[0;34m,\u001b[0m \u001b[0;36m10\u001b[0m\u001b[0;34m,\u001b[0m \u001b[0;34m[\u001b[0m\u001b[0;36m400\u001b[0m\u001b[0;34m,\u001b[0m \u001b[0;36m200\u001b[0m\u001b[0;34m,\u001b[0m \u001b[0;36m100\u001b[0m\u001b[0;34m]\u001b[0m\u001b[0;34m)\u001b[0m\u001b[0;34m\u001b[0m\u001b[0m\n\u001b[1;32m      3\u001b[0m \u001b[0;31m# This will throw an error because the tensor sizes are wrong!\u001b[0m\u001b[0;34m\u001b[0m\u001b[0;34m\u001b[0m\u001b[0m\n\u001b[0;32m----> 4\u001b[0;31m \u001b[0mmodel\u001b[0m\u001b[0;34m.\u001b[0m\u001b[0mload_state_dict\u001b[0m\u001b[0;34m(\u001b[0m\u001b[0mstate_dict\u001b[0m\u001b[0;34m)\u001b[0m\u001b[0;34m\u001b[0m\u001b[0m\n\u001b[0m",
      "\u001b[0;32m/opt/conda/lib/python3.6/site-packages/torch/nn/modules/module.py\u001b[0m in \u001b[0;36mload_state_dict\u001b[0;34m(self, state_dict, strict)\u001b[0m\n\u001b[1;32m    719\u001b[0m         \u001b[0;32mif\u001b[0m \u001b[0mlen\u001b[0m\u001b[0;34m(\u001b[0m\u001b[0merror_msgs\u001b[0m\u001b[0;34m)\u001b[0m \u001b[0;34m>\u001b[0m \u001b[0;36m0\u001b[0m\u001b[0;34m:\u001b[0m\u001b[0;34m\u001b[0m\u001b[0m\n\u001b[1;32m    720\u001b[0m             raise RuntimeError('Error(s) in loading state_dict for {}:\\n\\t{}'.format(\n\u001b[0;32m--> 721\u001b[0;31m                                self.__class__.__name__, \"\\n\\t\".join(error_msgs)))\n\u001b[0m\u001b[1;32m    722\u001b[0m \u001b[0;34m\u001b[0m\u001b[0m\n\u001b[1;32m    723\u001b[0m     \u001b[0;32mdef\u001b[0m \u001b[0mparameters\u001b[0m\u001b[0;34m(\u001b[0m\u001b[0mself\u001b[0m\u001b[0;34m)\u001b[0m\u001b[0;34m:\u001b[0m\u001b[0;34m\u001b[0m\u001b[0m\n",
      "\u001b[0;31mRuntimeError\u001b[0m: Error(s) in loading state_dict for Network:\n\tWhile copying the parameter named \"hidden_layers.0.weight\", whose dimensions in the model are torch.Size([400, 784]) and whose dimensions in the checkpoint are torch.Size([512, 784]).\n\tWhile copying the parameter named \"hidden_layers.0.bias\", whose dimensions in the model are torch.Size([400]) and whose dimensions in the checkpoint are torch.Size([512]).\n\tWhile copying the parameter named \"hidden_layers.1.weight\", whose dimensions in the model are torch.Size([200, 400]) and whose dimensions in the checkpoint are torch.Size([256, 512]).\n\tWhile copying the parameter named \"hidden_layers.1.bias\", whose dimensions in the model are torch.Size([200]) and whose dimensions in the checkpoint are torch.Size([256]).\n\tWhile copying the parameter named \"hidden_layers.2.weight\", whose dimensions in the model are torch.Size([100, 200]) and whose dimensions in the checkpoint are torch.Size([128, 256]).\n\tWhile copying the parameter named \"hidden_layers.2.bias\", whose dimensions in the model are torch.Size([100]) and whose dimensions in the checkpoint are torch.Size([128]).\n\tWhile copying the parameter named \"output.weight\", whose dimensions in the model are torch.Size([10, 100]) and whose dimensions in the checkpoint are torch.Size([10, 128])."
     ]
    }
   ],
   "source": [
    "# Try this\n",
    "model = fc_model.Network(784, 10, [400, 200, 100])\n",
    "# This will throw an error because the tensor sizes are wrong!\n",
    "model.load_state_dict(state_dict)"
   ]
  },
  {
   "cell_type": "markdown",
   "metadata": {},
   "source": [
    "This means we need to rebuild the model exactly as it was when trained. Information about the model architecture needs to be saved in the checkpoint, along with the state dict. To do this, you build a dictionary with all the information you need to compeletely rebuild the model."
   ]
  },
  {
   "cell_type": "code",
   "execution_count": 16,
   "metadata": {},
   "outputs": [
    {
     "data": {
      "text/plain": [
       "ModuleList(\n",
       "  (0): Linear(in_features=784, out_features=400, bias=True)\n",
       "  (1): Linear(in_features=400, out_features=200, bias=True)\n",
       "  (2): Linear(in_features=200, out_features=100, bias=True)\n",
       ")"
      ]
     },
     "execution_count": 16,
     "metadata": {},
     "output_type": "execute_result"
    }
   ],
   "source": [
    "model.hidden_layers"
   ]
  },
  {
   "cell_type": "code",
   "execution_count": 17,
   "metadata": {},
   "outputs": [
    {
     "data": {
      "text/plain": [
       "[400, 200, 100]"
      ]
     },
     "execution_count": 17,
     "metadata": {},
     "output_type": "execute_result"
    }
   ],
   "source": [
    "hidden_layers_state_dict = [each.out_features for each in model.hidden_layers]\n",
    "hidden_layers_state_dict"
   ]
  },
  {
   "cell_type": "code",
   "execution_count": null,
   "metadata": {},
   "outputs": [],
   "source": [
    "checkpoint = {'input_size': 784,\n",
    "              'output_size': 10,\n",
    "              'hidden_layers': [each.out_features for each in model.hidden_layers],\n",
    "              'state_dict': model.state_dict()}\n",
    "\n",
    "torch.save(checkpoint, 'checkpoint.pth')"
   ]
  },
  {
   "cell_type": "markdown",
   "metadata": {},
   "source": [
    "Now the checkpoint has all the necessary information to rebuild the trained model. You can easily make that a function if you want. Similarly, we can write a function to load checkpoints. "
   ]
  },
  {
   "cell_type": "code",
   "execution_count": null,
   "metadata": {},
   "outputs": [],
   "source": [
    "def load_checkpoint(filepath):\n",
    "    checkpoint = torch.load(filepath)\n",
    "    model = fc_model.Network(checkpoint['input_size'],\n",
    "                             checkpoint['output_size'],\n",
    "                             checkpoint['hidden_layers'])\n",
    "    model.load_state_dict(checkpoint['state_dict'])\n",
    "    \n",
    "    return model"
   ]
  },
  {
   "cell_type": "code",
   "execution_count": null,
   "metadata": {},
   "outputs": [],
   "source": [
    "model = load_checkpoint('checkpoint.pth')\n",
    "print(model)"
   ]
  }
 ],
 "metadata": {
  "kernelspec": {
   "display_name": "Python 3",
   "language": "python",
   "name": "python3"
  },
  "language_info": {
   "codemirror_mode": {
    "name": "ipython",
    "version": 3
   },
   "file_extension": ".py",
   "mimetype": "text/x-python",
   "name": "python",
   "nbconvert_exporter": "python",
   "pygments_lexer": "ipython3",
   "version": "3.6.3"
  }
 },
 "nbformat": 4,
 "nbformat_minor": 2
}
