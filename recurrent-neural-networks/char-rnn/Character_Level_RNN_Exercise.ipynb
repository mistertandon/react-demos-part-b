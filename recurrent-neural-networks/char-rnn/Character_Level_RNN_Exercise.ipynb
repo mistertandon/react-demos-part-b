{
 "cells": [
  {
   "cell_type": "markdown",
   "metadata": {},
   "source": [
    "# Character-Level LSTM in PyTorch\n",
    "\n",
    "In this notebook, I'll construct a character-level LSTM with PyTorch. The network will train character by character on some text, then generate new text character by character. As an example, I will train on Anna Karenina. **This model will be able to generate new text based on the text from the book!**\n",
    "\n",
    "This network is based off of Andrej Karpathy's [post on RNNs](http://karpathy.github.io/2015/05/21/rnn-effectiveness/) and [implementation in Torch](https://github.com/karpathy/char-rnn). Below is the general architecture of the character-wise RNN.\n",
    "\n",
    "<img src=\"assets/charseq.jpeg\" width=\"500\">"
   ]
  },
  {
   "cell_type": "markdown",
   "metadata": {},
   "source": [
    "First let's load in our required resources for data loading and model creation."
   ]
  },
  {
   "cell_type": "code",
   "execution_count": null,
   "metadata": {},
   "outputs": [],
   "source": [
    "from IPython.core.interactiveshell import InteractiveShell\n",
    "InteractiveShell.ast_node_interactivity = 'all'"
   ]
  },
  {
   "cell_type": "code",
   "execution_count": null,
   "metadata": {},
   "outputs": [],
   "source": [
    "import math"
   ]
  },
  {
   "cell_type": "code",
   "execution_count": null,
   "metadata": {},
   "outputs": [],
   "source": [
    "import numpy as np\n",
    "import torch\n",
    "from torch import nn\n",
    "import torch.nn.functional as F"
   ]
  },
  {
   "cell_type": "markdown",
   "metadata": {},
   "source": [
    "## Load in Data\n",
    "\n",
    "Then, we'll load the Anna Karenina text file and convert it into integers for our network to use. "
   ]
  },
  {
   "cell_type": "code",
   "execution_count": null,
   "metadata": {},
   "outputs": [],
   "source": [
    "# open text file and read in data as `text`\n",
    "with open('data/anna.txt', 'r') as f:\n",
    "    text = f.read()"
   ]
  },
  {
   "cell_type": "markdown",
   "metadata": {},
   "source": [
    "Let's check out the first 100 characters, make sure everything is peachy. According to the [American Book Review](http://americanbookreview.org/100bestlines.asp), this is the 6th best first line of a book ever."
   ]
  },
  {
   "cell_type": "code",
   "execution_count": null,
   "metadata": {},
   "outputs": [],
   "source": [
    "text[:100]"
   ]
  },
  {
   "cell_type": "markdown",
   "metadata": {},
   "source": [
    "### Tokenization\n",
    "\n",
    "In the cells, below, I'm creating a couple **dictionaries** to convert the characters to and from integers. Encoding the characters as integers makes it easier to use as input in the network."
   ]
  },
  {
   "cell_type": "code",
   "execution_count": null,
   "metadata": {},
   "outputs": [],
   "source": [
    "# encode the text and map each character to an integer and vice versa\n",
    "\n",
    "# we create two dictionaries:\n",
    "# 1. int2char, which maps integers to characters\n",
    "# 2. char2int, which maps characters to unique integers\n",
    "\n",
    "chars = tuple(set(text))\n",
    "\n",
    "int2char = dict(enumerate(chars))\n",
    "\n",
    "char2int = {ch: ii for ii, ch in int2char.items()}\n",
    "char2int\n",
    "\n",
    "# encode the text\n",
    "encoded = np.array([char2int[ch] for ch in text])\n",
    "encoded.shape"
   ]
  },
  {
   "cell_type": "markdown",
   "metadata": {},
   "source": [
    "And we can see those same characters from above, encoded as integers."
   ]
  },
  {
   "cell_type": "code",
   "execution_count": null,
   "metadata": {},
   "outputs": [],
   "source": [
    "encoded[:100]"
   ]
  },
  {
   "cell_type": "markdown",
   "metadata": {},
   "source": [
    "## Pre-processing the data\n",
    "\n",
    "As you can see in our char-RNN image above, our LSTM expects an input that is **one-hot encoded** meaning that each character is converted into an integer (via our created dictionary) and *then* converted into a column vector where only it's corresponding integer index will have the value of 1 and the rest of the vector will be filled with 0's. Since we're one-hot encoding the data, let's make a function to do that!\n"
   ]
  },
  {
   "cell_type": "code",
   "execution_count": null,
   "metadata": {},
   "outputs": [],
   "source": [
    "def one_hot_encode(arr, n_labels):\n",
    "    \n",
    "    # Initialize the the encoded array\n",
    "    one_hot = np.zeros((np.multiply(*arr.shape), n_labels), dtype=np.float32)\n",
    "    \n",
    "    # Fill the appropriate elements with ones\n",
    "    one_hot[np.arange(one_hot.shape[0]), arr.flatten()] = 1.\n",
    "    \n",
    "    # Finally reshape it to get back to the original array\n",
    "    one_hot = one_hot.reshape((*arr.shape, n_labels))\n",
    "    \n",
    "    return one_hot"
   ]
  },
  {
   "cell_type": "code",
   "execution_count": null,
   "metadata": {},
   "outputs": [],
   "source": [
    "arr1 = np.zeros((5, 8), dtype = np.int8)\n",
    "arr1[[0, 1, 2, 3, 4], [7, 1, 1, 1, 1]] = 5\n",
    "arr1"
   ]
  },
  {
   "cell_type": "code",
   "execution_count": null,
   "metadata": {},
   "outputs": [],
   "source": [
    "# check that the function works as expected\n",
    "test_seq = np.array([[3, 5, 1]])\n",
    "one_hot = one_hot_encode(test_seq, 8)\n",
    "\n",
    "print(one_hot)"
   ]
  },
  {
   "cell_type": "code",
   "execution_count": null,
   "metadata": {},
   "outputs": [],
   "source": []
  },
  {
   "cell_type": "markdown",
   "metadata": {},
   "source": [
    "## Making training mini-batches\n",
    "\n",
    "\n",
    "To train on this data, we also want to create mini-batches for training. Remember that we want our batches to be multiple sequences of some desired number of sequence steps. Considering a simple example, our batches would look like this:\n",
    "\n",
    "<img src=\"assets/sequence_batching@1x.png\" width=500px>\n",
    "\n",
    "\n",
    "<br>\n",
    "\n",
    "In this example, we'll take the encoded characters (passed in as the `arr` parameter) and split them into multiple sequences, given by `batch_size`. Each of our sequences will be `seq_length` long.\n",
    "\n",
    "### Creating Batches\n",
    "\n",
    "**1. The first thing we need to do is discard some of the text so we only have completely full mini-batches. **\n",
    "\n",
    "Each batch contains $N \\times M$ characters, where $N$ is the batch size (the number of sequences in a batch) and $M$ is the seq_length or number of time steps in a sequence. Then, to get the total number of batches, $K$, that we can make from the array `arr`, you divide the length of `arr` by the number of characters per batch. Once you know the number of batches, you can get the total number of characters to keep from `arr`, $N * M * K$.\n",
    "\n",
    "**2. After that, we need to split `arr` into $N$ batches. ** \n",
    "\n",
    "You can do this using `arr.reshape(size)` where `size` is a tuple containing the dimensions sizes of the reshaped array. We know we want $N$ sequences in a batch, so let's make that the size of the first dimension. For the second dimension, you can use `-1` as a placeholder in the size, it'll fill up the array with the appropriate data for you. After this, you should have an array that is $N \\times (M * K)$.\n",
    "\n",
    "**3. Now that we have this array, we can iterate through it to get our mini-batches. **\n",
    "\n",
    "The idea is each batch is a $N \\times M$ window on the $N \\times (M * K)$ array. For each subsequent batch, the window moves over by `seq_length`. We also want to create both the input and target arrays. Remember that the targets are just the inputs shifted over by one character. The way I like to do this window is use `range` to take steps of size `n_steps` from $0$ to `arr.shape[1]`, the total number of tokens in each sequence. That way, the integers you get from `range` always point to the start of a batch, and each window is `seq_length` wide.\n",
    "\n",
    "> **TODO:** Write the code for creating batches in the function below. The exercises in this notebook _will not be easy_. I've provided a notebook with solutions alongside this notebook. If you get stuck, checkout the solutions. The most important thing is that you don't copy and paste the code into here, **type out the solution code yourself.**"
   ]
  },
  {
   "cell_type": "code",
   "execution_count": null,
   "metadata": {},
   "outputs": [],
   "source": [
    "def get_batches(arr, batch_size, seq_length):\n",
    "    '''Create a generator that returns batches of size\n",
    "       batch_size x seq_length from arr.\n",
    "       \n",
    "       Arguments\n",
    "       ---------\n",
    "       arr: Array you want to make batches from\n",
    "       batch_size: Batch size, the number of sequences per batch\n",
    "       seq_length: Number of encoded chars in a sequence\n",
    "    '''\n",
    "    \n",
    "    ## TODO: Get the number of batches we can make\n",
    "    characters_in_one_batch = batch_size * seq_length\n",
    "    n_batches = len(arr)//characters_in_one_batch\n",
    "    \n",
    "    ## TODO: Keep only enough characters to make full batches\n",
    "    updated_arr_length = characters_in_one_batch * n_batches\n",
    "    arr = arr[:updated_arr_length]\n",
    "    \n",
    "    ## TODO: Reshape into batch_size rows\n",
    "    arr = arr.reshape((batch_size, -1))\n",
    "    ## TODO: Iterate over the batches using a window of size seq_length\n",
    "    for n in range(0, arr.shape[1], seq_length):\n",
    "        # The features\n",
    "        x = arr[:, n:n + seq_length]\n",
    "        \n",
    "        # The targets, shifted by one\n",
    "        y = np.zeros_like(x)\n",
    "        try:\n",
    "            y[:, :-1], y[:, -1] = x[:, 1:], arr[:, n + seq_length]\n",
    "        except IndexError:\n",
    "            y[:, :-1], y[:, -1] = x[:, 1:], arr[:, 0]\n",
    "\n",
    "        yield x, y"
   ]
  },
  {
   "cell_type": "markdown",
   "metadata": {},
   "source": [
    "> How to copy an array elements into another array where array elements are shifted by one in resultant array:"
   ]
  },
  {
   "cell_type": "code",
   "execution_count": null,
   "metadata": {},
   "outputs": [],
   "source": [
    "matrix_a = np.arange(1, 15 + 1, 1)\n",
    "matrix_a = matrix_a.reshape((3, 5))\n",
    "matrix_a\n",
    "\n",
    "matrix_b = np.ones_like(matrix_a)\n",
    "matrix_b[:, :-1] = matrix_a[:, 1:]\n",
    "matrix_b[:, -1] = matrix_a[:, 0]\n",
    "matrix_b"
   ]
  },
  {
   "cell_type": "markdown",
   "metadata": {},
   "source": [
    "### Test Your Implementation\n",
    "\n",
    "Now I'll make some data sets and we can check out what's going on as we batch data. Here, as an example, I'm going to use a batch size of 8 and 50 sequence steps."
   ]
  },
  {
   "cell_type": "code",
   "execution_count": null,
   "metadata": {},
   "outputs": [],
   "source": [
    "batches = get_batches(encoded, 8, 50)\n",
    "x, y = next(batches)\n",
    "x.shape\n",
    "y.shape"
   ]
  },
  {
   "cell_type": "code",
   "execution_count": null,
   "metadata": {},
   "outputs": [],
   "source": [
    "# printing out the first 10 items in a sequence\n",
    "print('x\\n', x[:10, :10])\n",
    "print('\\ny\\n', y[:10, :10])"
   ]
  },
  {
   "cell_type": "markdown",
   "metadata": {},
   "source": [
    "If you implemented `get_batches` correctly, the above output should look something like \n",
    "```\n",
    "x\n",
    " [[25  8 60 11 45 27 28 73  1  2]\n",
    " [17  7 20 73 45  8 60 45 73 60]\n",
    " [27 20 80 73  7 28 73 60 73 65]\n",
    " [17 73 45  8 27 73 66  8 46 27]\n",
    " [73 17 60 12 73  8 27 28 73 45]\n",
    " [66 64 17 17 46  7 20 73 60 20]\n",
    " [73 76 20 20 60 73  8 60 80 73]\n",
    " [47 35 43  7 20 17 24 50 37 73]]\n",
    "\n",
    "y\n",
    " [[ 8 60 11 45 27 28 73  1  2  2]\n",
    " [ 7 20 73 45  8 60 45 73 60 45]\n",
    " [20 80 73  7 28 73 60 73 65  7]\n",
    " [73 45  8 27 73 66  8 46 27 65]\n",
    " [17 60 12 73  8 27 28 73 45 27]\n",
    " [64 17 17 46  7 20 73 60 20 80]\n",
    " [76 20 20 60 73  8 60 80 73 17]\n",
    " [35 43  7 20 17 24 50 37 73 36]]\n",
    " ```\n",
    " although the exact numbers may be different. Check to make sure the data is shifted over one step for `y`."
   ]
  },
  {
   "cell_type": "markdown",
   "metadata": {},
   "source": [
    "---\n",
    "## Defining the network with PyTorch\n",
    "\n",
    "Below is where you'll define the network.\n",
    "\n",
    "<img src=\"assets/charRNN.png\" width=500px>\n",
    "\n",
    "Next, you'll use PyTorch to define the architecture of the network. We start by defining the layers and operations we want. Then, define a method for the forward pass. You've also been given a method for predicting characters."
   ]
  },
  {
   "cell_type": "markdown",
   "metadata": {},
   "source": [
    "### Model Structure\n",
    "\n",
    "In `__init__` the suggested structure is as follows:\n",
    "* Create and store the necessary dictionaries (this has been done for you)\n",
    "* Define an LSTM layer that takes as params: an input size (the number of characters), a hidden layer size `n_hidden`, a number of layers `n_layers`, a dropout probability `drop_prob`, and a batch_first boolean (True, since we are batching)\n",
    "* Define a dropout layer with `dropout_prob`\n",
    "* Define a fully-connected layer with params: input size `n_hidden` and output size (the number of characters)\n",
    "* Finally, initialize the weights (again, this has been given)\n",
    "\n",
    "Note that some parameters have been named and given in the `__init__` function, and we use them and store them by doing something like `self.drop_prob = drop_prob`."
   ]
  },
  {
   "cell_type": "markdown",
   "metadata": {},
   "source": [
    "---\n",
    "### LSTM Inputs/Outputs\n",
    "\n",
    "You can create a basic [LSTM layer](https://pytorch.org/docs/stable/nn.html#lstm) as follows\n",
    "\n",
    "```python\n",
    "self.lstm = nn.LSTM(input_size, n_hidden, n_layers, \n",
    "                            dropout=drop_prob, batch_first=True)\n",
    "```\n",
    "\n",
    "where `input_size` is the number of characters this cell expects to see as sequential input, and `n_hidden` is the number of units in the hidden layers in the cell. And we can add dropout by adding a dropout parameter with a specified probability; this will automatically add dropout to the inputs or outputs. Finally, in the `forward` function, we can stack up the LSTM cells into layers using `.view`. With this, you pass in a list of cells and it will send the output of one cell into the next cell.\n",
    "\n",
    "We also need to create an initial hidden state of all zeros. This is done like so\n",
    "\n",
    "```python\n",
    "self.init_hidden()\n",
    "```"
   ]
  },
  {
   "cell_type": "code",
   "execution_count": null,
   "metadata": {},
   "outputs": [],
   "source": [
    "# check if GPU is available\n",
    "train_on_gpu = torch.cuda.is_available()\n",
    "if(train_on_gpu):\n",
    "    print('Training on GPU!')\n",
    "else: \n",
    "    print('No GPU available, training on CPU; consider making n_epochs very small.')"
   ]
  },
  {
   "cell_type": "code",
   "execution_count": null,
   "metadata": {},
   "outputs": [],
   "source": [
    "class CharRNN(nn.Module):\n",
    "    \n",
    "    def __init__(self, tokens, n_hidden=256, n_layers=2,\n",
    "                               drop_prob=0.5, lr=0.001):\n",
    "        super().__init__()\n",
    "        self.drop_prob = drop_prob\n",
    "        self.n_layers = n_layers\n",
    "        self.n_hidden = n_hidden\n",
    "        self.lr = lr\n",
    "        \n",
    "        # creating character dictionaries\n",
    "        self.chars = tokens\n",
    "        self.int2char = dict(enumerate(self.chars))\n",
    "        self.char2int = {ch: ii for ii, ch in self.int2char.items()}\n",
    "        \n",
    "        self.input_size = len(self.chars)\n",
    "        \n",
    "        ## TODO: define the layers of the model\n",
    "        self.lstm = nn.LSTM(input_size = self.input_size,\n",
    "                            hidden_size = n_hidden,\n",
    "                            num_layers= self.n_layers,\n",
    "                            batch_first = True,\n",
    "                            dropout = 0.05,\n",
    "                            bidirectional = False )\n",
    "        \n",
    "        self.output = nn.Linear(in_features = n_hidden, out_features = self.input_size)\n",
    "        \n",
    "        self.drop_out = nn.Dropout(self.drop_prob)\n",
    "    \n",
    "    def forward(self, x, hidden):\n",
    "        ''' Forward pass through the network. \n",
    "            These inputs are x, and the hidden/cell state `hidden`. '''\n",
    "        \n",
    "        ## TODO: Get the outputs and the new hidden state from the lstm\n",
    "        #print('input_shape : {} | hidden_shape : {}'.format(x.shape, hidden.shape))\n",
    "        lstm_output, hidden = self.lstm(x, hidden)\n",
    "        #print('output_shape : {} | up_hidden_shape : {}'.format(lstm_output.shape, hidden.shape))\n",
    "        lstm_output = self.drop_out(lstm_output)\n",
    "        \n",
    "        lstm_output_mod = lstm_output.contiguous().view(-1, self.n_hidden)\n",
    "        \n",
    "        output = self.output(lstm_output_mod)\n",
    "        \n",
    "        # return the final output and the hidden state\n",
    "        return output, hidden\n",
    "    \n",
    "    \n",
    "    def init_hidden(self, batch_size):\n",
    "        ''' Initializes hidden state '''\n",
    "        # Create two new tensors with sizes n_layers x batch_size x n_hidden,\n",
    "        # initialized to zero, for hidden state and cell state of LSTM\n",
    "        weight = next(self.parameters()).data\n",
    "        \n",
    "        if (train_on_gpu):\n",
    "            hidden = (weight.new(self.n_layers, batch_size, self.n_hidden).zero_().cuda(),\n",
    "                  weight.new(self.n_layers, batch_size, self.n_hidden).zero_().cuda())\n",
    "        else:\n",
    "            hidden = (weight.new(self.n_layers, batch_size, self.n_hidden).zero_(),\n",
    "                      weight.new(self.n_layers, batch_size, self.n_hidden).zero_())\n",
    "        \n",
    "        return hidden\n",
    "        "
   ]
  },
  {
   "cell_type": "markdown",
   "metadata": {},
   "source": [
    "## Time to train\n",
    "\n",
    "The train function gives us the ability to set the number of epochs, the learning rate, and other parameters.\n",
    "\n",
    "Below we're using an Adam optimizer and cross entropy loss since we are looking at character class scores as output. We calculate the loss and perform backpropagation, as usual!\n",
    "\n",
    "A couple of details about training: \n",
    ">* Within the batch loop, we detach the hidden state from its history; this time setting it equal to a new *tuple* variable because an LSTM has a hidden state that is a tuple of the hidden and cell states.\n",
    "* We use [`clip_grad_norm_`](https://pytorch.org/docs/stable/_modules/torch/nn/utils/clip_grad.html) to help prevent exploding gradients."
   ]
  },
  {
   "cell_type": "code",
   "execution_count": null,
   "metadata": {},
   "outputs": [],
   "source": [
    "def train(net, data, epochs=10, batch_size=10, seq_length=50, lr=0.001, clip=5, val_frac=0.1, print_every=10):\n",
    "    ''' Training a network \n",
    "    \n",
    "        Arguments\n",
    "        ---------\n",
    "        \n",
    "        net: CharRNN network\n",
    "        data: text data to train the network\n",
    "        epochs: Number of epochs to train\n",
    "        batch_size: Number of mini-sequences per mini-batch, aka batch size\n",
    "        seq_length: Number of character steps per mini-batch\n",
    "        lr: learning rate\n",
    "        clip: gradient clipping\n",
    "        val_frac: Fraction of data to hold out for validation\n",
    "        print_every: Number of steps for printing training and validation loss\n",
    "    \n",
    "    '''\n",
    "    net.train()\n",
    "    \n",
    "    opt = torch.optim.Adam(net.parameters(), lr=lr)\n",
    "    criterion = nn.CrossEntropyLoss()\n",
    "    \n",
    "    # create training and validation data\n",
    "    val_idx = int(len(data)*(1-val_frac))\n",
    "    data, val_data = data[:val_idx], data[val_idx:]\n",
    "    \n",
    "    if(train_on_gpu):\n",
    "        net.cuda()\n",
    "    \n",
    "    counter = 0\n",
    "    n_chars = len(net.chars)\n",
    "    for e in range(epochs):\n",
    "        # initialize hidden state\n",
    "        h = net.init_hidden(batch_size)\n",
    "        for x, y in get_batches(data, batch_size, seq_length):\n",
    "            counter += 1\n",
    "            # One-hot encode our data and make them Torch tensors\n",
    "            x = one_hot_encode(x, n_chars)\n",
    "            inputs, targets = torch.from_numpy(x), torch.from_numpy(y)\n",
    "            if(train_on_gpu):\n",
    "                inputs, targets = inputs.cuda(), targets.cuda()\n",
    "\n",
    "            # Creating new variables for the hidden state, otherwise\n",
    "            # we'd backprop through the entire training history\n",
    "            h = tuple([each.data for each in h])\n",
    "\n",
    "            # zero accumulated gradients\n",
    "            net.zero_grad()\n",
    "            \n",
    "            # get the output from the model\n",
    "            output, h = net(inputs, h)\n",
    "            \n",
    "            # calculate the loss and perform backprop\n",
    "            loss = criterion(output, targets.view(batch_size*seq_length).long())\n",
    "            loss.backward()\n",
    "            # `clip_grad_norm` helps prevent the exploding gradient problem in RNNs / LSTMs.\n",
    "            nn.utils.clip_grad_norm_(net.parameters(), clip)\n",
    "            opt.step()\n",
    "            \n",
    "            # loss stats\n",
    "            if counter % print_every == 0:\n",
    "                # Get validation loss\n",
    "                val_h = net.init_hidden(batch_size)\n",
    "                val_losses = []\n",
    "                net.eval()\n",
    "                for x, y in get_batches(val_data, batch_size, seq_length):\n",
    "                    # One-hot encode our data and make them Torch tensors\n",
    "                    x = one_hot_encode(x, n_chars)\n",
    "                    x, y = torch.from_numpy(x), torch.from_numpy(y)\n",
    "                    \n",
    "                    # Creating new variables for the hidden state, otherwise\n",
    "                    # we'd backprop through the entire training history\n",
    "                    val_h = tuple([each.data for each in val_h])\n",
    "                    \n",
    "                    inputs, targets = x, y\n",
    "                    if(train_on_gpu):\n",
    "                        inputs, targets = inputs.cuda(), targets.cuda()\n",
    "\n",
    "                    output, val_h = net(inputs, val_h)\n",
    "                    val_loss = criterion(output, targets.view(batch_size*seq_length).long())\n",
    "                \n",
    "                    val_losses.append(val_loss.item())\n",
    "                \n",
    "                net.train() # reset to train mode after iterationg through validation data\n",
    "                \n",
    "                print(\"Epoch: {}/{}...\".format(e+1, epochs),\n",
    "                      \"Step: {}...\".format(counter),\n",
    "                      \"Loss: {:.4f}...\".format(loss.item()),\n",
    "                      \"Val Loss: {:.4f}\".format(np.mean(val_losses)))"
   ]
  },
  {
   "cell_type": "markdown",
   "metadata": {},
   "source": [
    "## Instantiating the model\n",
    "\n",
    "Now we can actually train the network. First we'll create the network itself, with some given hyperparameters. Then, define the mini-batches sizes, and start training!"
   ]
  },
  {
   "cell_type": "code",
   "execution_count": null,
   "metadata": {},
   "outputs": [],
   "source": [
    "## TODO: set you model hyperparameters\n",
    "# define and print the net\n",
    "n_hidden = 512\n",
    "n_layers = 2\n",
    "\n",
    "net = CharRNN(chars, n_hidden, n_layers)\n",
    "print(net)"
   ]
  },
  {
   "cell_type": "markdown",
   "metadata": {},
   "source": [
    "### Set your training hyperparameters!"
   ]
  },
  {
   "cell_type": "code",
   "execution_count": 140,
   "metadata": {
    "scrolled": true
   },
   "outputs": [
    {
     "name": "stdout",
     "output_type": "stream",
     "text": [
      "Epoch: 1/20... Step: 25... Loss: 2.7007... Val Loss: 2.7135\n",
      "Epoch: 1/20... Step: 50... Loss: 2.5651... Val Loss: 2.5309\n",
      "Epoch: 1/20... Step: 75... Loss: 2.4252... Val Loss: 2.4217\n",
      "Epoch: 1/20... Step: 100... Loss: 2.3641... Val Loss: 2.3471\n",
      "Epoch: 1/20... Step: 125... Loss: 2.2638... Val Loss: 2.2698\n",
      "Epoch: 2/20... Step: 150... Loss: 2.2063... Val Loss: 2.1939\n",
      "Epoch: 2/20... Step: 175... Loss: 2.1249... Val Loss: 2.1253\n",
      "Epoch: 2/20... Step: 200... Loss: 2.0429... Val Loss: 2.0578\n",
      "Epoch: 2/20... Step: 225... Loss: 1.9867... Val Loss: 2.0011\n",
      "Epoch: 2/20... Step: 250... Loss: 1.9125... Val Loss: 1.9499\n",
      "Epoch: 2/20... Step: 275... Loss: 1.9041... Val Loss: 1.9018\n",
      "Epoch: 3/20... Step: 300... Loss: 1.8396... Val Loss: 1.8578\n",
      "Epoch: 3/20... Step: 325... Loss: 1.7936... Val Loss: 1.8175\n",
      "Epoch: 3/20... Step: 350... Loss: 1.7682... Val Loss: 1.7902\n",
      "Epoch: 3/20... Step: 375... Loss: 1.7439... Val Loss: 1.7464\n",
      "Epoch: 3/20... Step: 400... Loss: 1.6802... Val Loss: 1.7193\n",
      "Epoch: 4/20... Step: 425... Loss: 1.6942... Val Loss: 1.6859\n",
      "Epoch: 4/20... Step: 450... Loss: 1.6185... Val Loss: 1.6638\n",
      "Epoch: 4/20... Step: 475... Loss: 1.6126... Val Loss: 1.6449\n",
      "Epoch: 4/20... Step: 500... Loss: 1.6275... Val Loss: 1.6192\n",
      "Epoch: 4/20... Step: 525... Loss: 1.5769... Val Loss: 1.6067\n",
      "Epoch: 4/20... Step: 550... Loss: 1.5921... Val Loss: 1.5891\n",
      "Epoch: 5/20... Step: 575... Loss: 1.5554... Val Loss: 1.5676\n",
      "Epoch: 5/20... Step: 600... Loss: 1.5122... Val Loss: 1.5552\n",
      "Epoch: 5/20... Step: 625... Loss: 1.4972... Val Loss: 1.5381\n",
      "Epoch: 5/20... Step: 650... Loss: 1.4943... Val Loss: 1.5262\n",
      "Epoch: 5/20... Step: 675... Loss: 1.4634... Val Loss: 1.5179\n",
      "Epoch: 6/20... Step: 700... Loss: 1.4762... Val Loss: 1.5018\n",
      "Epoch: 6/20... Step: 725... Loss: 1.4819... Val Loss: 1.4920\n",
      "Epoch: 6/20... Step: 750... Loss: 1.4224... Val Loss: 1.4808\n",
      "Epoch: 6/20... Step: 775... Loss: 1.4235... Val Loss: 1.4771\n",
      "Epoch: 6/20... Step: 800... Loss: 1.4379... Val Loss: 1.4640\n",
      "Epoch: 6/20... Step: 825... Loss: 1.4263... Val Loss: 1.4566\n",
      "Epoch: 7/20... Step: 850... Loss: 1.3976... Val Loss: 1.4424\n",
      "Epoch: 7/20... Step: 875... Loss: 1.3848... Val Loss: 1.4384\n",
      "Epoch: 7/20... Step: 900... Loss: 1.3833... Val Loss: 1.4321\n",
      "Epoch: 7/20... Step: 925... Loss: 1.3654... Val Loss: 1.4230\n",
      "Epoch: 7/20... Step: 950... Loss: 1.3692... Val Loss: 1.4144\n",
      "Epoch: 8/20... Step: 975... Loss: 1.3613... Val Loss: 1.4139\n",
      "Epoch: 8/20... Step: 1000... Loss: 1.3544... Val Loss: 1.4036\n",
      "Epoch: 8/20... Step: 1025... Loss: 1.3239... Val Loss: 1.4002\n",
      "Epoch: 8/20... Step: 1050... Loss: 1.3245... Val Loss: 1.3913\n",
      "Epoch: 8/20... Step: 1075... Loss: 1.3346... Val Loss: 1.3833\n",
      "Epoch: 8/20... Step: 1100... Loss: 1.3064... Val Loss: 1.3756\n",
      "Epoch: 9/20... Step: 1125... Loss: 1.3022... Val Loss: 1.3775\n",
      "Epoch: 9/20... Step: 1150... Loss: 1.3333... Val Loss: 1.3655\n",
      "Epoch: 9/20... Step: 1175... Loss: 1.3178... Val Loss: 1.3592\n",
      "Epoch: 9/20... Step: 1200... Loss: 1.2793... Val Loss: 1.3570\n",
      "Epoch: 9/20... Step: 1225... Loss: 1.2943... Val Loss: 1.3589\n",
      "Epoch: 9/20... Step: 1250... Loss: 1.2866... Val Loss: 1.3487\n",
      "Epoch: 10/20... Step: 1275... Loss: 1.2659... Val Loss: 1.3384\n",
      "Epoch: 10/20... Step: 1300... Loss: 1.2715... Val Loss: 1.3395\n",
      "Epoch: 10/20... Step: 1325... Loss: 1.2738... Val Loss: 1.3378\n",
      "Epoch: 10/20... Step: 1350... Loss: 1.2345... Val Loss: 1.3335\n",
      "Epoch: 10/20... Step: 1375... Loss: 1.2595... Val Loss: 1.3279\n",
      "Epoch: 11/20... Step: 1400... Loss: 1.2766... Val Loss: 1.3276\n",
      "Epoch: 11/20... Step: 1425... Loss: 1.2396... Val Loss: 1.3227\n",
      "Epoch: 11/20... Step: 1450... Loss: 1.1972... Val Loss: 1.3229\n",
      "Epoch: 11/20... Step: 1475... Loss: 1.2287... Val Loss: 1.3154\n",
      "Epoch: 11/20... Step: 1500... Loss: 1.2205... Val Loss: 1.3122\n",
      "Epoch: 11/20... Step: 1525... Loss: 1.2388... Val Loss: 1.3123\n",
      "Epoch: 12/20... Step: 1550... Loss: 1.2350... Val Loss: 1.3051\n",
      "Epoch: 12/20... Step: 1575... Loss: 1.2128... Val Loss: 1.3190\n",
      "Epoch: 12/20... Step: 1600... Loss: 1.2018... Val Loss: 1.3084\n",
      "Epoch: 12/20... Step: 1625... Loss: 1.1878... Val Loss: 1.3057\n",
      "Epoch: 12/20... Step: 1650... Loss: 1.1791... Val Loss: 1.3013\n",
      "Epoch: 13/20... Step: 1675... Loss: 1.2016... Val Loss: 1.3109\n",
      "Epoch: 13/20... Step: 1700... Loss: 1.1813... Val Loss: 1.2980\n",
      "Epoch: 13/20... Step: 1725... Loss: 1.1877... Val Loss: 1.2941\n",
      "Epoch: 13/20... Step: 1750... Loss: 1.1483... Val Loss: 1.2982\n",
      "Epoch: 13/20... Step: 1775... Loss: 1.1754... Val Loss: 1.2907\n",
      "Epoch: 13/20... Step: 1800... Loss: 1.1861... Val Loss: 1.2960\n",
      "Epoch: 14/20... Step: 1825... Loss: 1.1845... Val Loss: 1.2888\n",
      "Epoch: 14/20... Step: 1850... Loss: 1.1319... Val Loss: 1.2953\n",
      "Epoch: 14/20... Step: 1875... Loss: 1.1605... Val Loss: 1.2820\n",
      "Epoch: 14/20... Step: 1900... Loss: 1.1715... Val Loss: 1.2906\n",
      "Epoch: 14/20... Step: 1925... Loss: 1.1414... Val Loss: 1.2845\n",
      "Epoch: 15/20... Step: 1950... Loss: 1.1579... Val Loss: 1.2836\n",
      "Epoch: 15/20... Step: 1975... Loss: 1.1824... Val Loss: 1.2866\n",
      "Epoch: 15/20... Step: 2000... Loss: 1.1321... Val Loss: 1.2802\n",
      "Epoch: 15/20... Step: 2025... Loss: 1.1329... Val Loss: 1.2772\n",
      "Epoch: 15/20... Step: 2050... Loss: 1.1387... Val Loss: 1.2787\n",
      "Epoch: 15/20... Step: 2075... Loss: 1.1751... Val Loss: 1.2753\n",
      "Epoch: 16/20... Step: 2100... Loss: 1.1486... Val Loss: 1.2833\n",
      "Epoch: 16/20... Step: 2125... Loss: 1.1475... Val Loss: 1.2746\n",
      "Epoch: 16/20... Step: 2150... Loss: 1.1604... Val Loss: 1.2851\n",
      "Epoch: 16/20... Step: 2175... Loss: 1.1379... Val Loss: 1.2757\n",
      "Epoch: 16/20... Step: 2200... Loss: 1.1253... Val Loss: 1.2764\n",
      "Epoch: 17/20... Step: 2225... Loss: 1.2602... Val Loss: 1.2748\n",
      "Epoch: 17/20... Step: 2250... Loss: 1.1109... Val Loss: 1.2698\n",
      "Epoch: 17/20... Step: 2275... Loss: 1.1007... Val Loss: 1.2771\n",
      "Epoch: 17/20... Step: 2300... Loss: 1.1036... Val Loss: 1.2785\n",
      "Epoch: 17/20... Step: 2325... Loss: 1.1364... Val Loss: 1.2791\n",
      "Epoch: 17/20... Step: 2350... Loss: 1.1266... Val Loss: 1.2762\n",
      "Epoch: 18/20... Step: 2375... Loss: 1.1203... Val Loss: 1.2712\n",
      "Epoch: 18/20... Step: 2400... Loss: 1.1278... Val Loss: 1.2723\n",
      "Epoch: 18/20... Step: 2425... Loss: 1.1364... Val Loss: 1.2758\n",
      "Epoch: 18/20... Step: 2450... Loss: 1.0920... Val Loss: 1.2685\n",
      "Epoch: 18/20... Step: 2475... Loss: 1.0914... Val Loss: 1.2670\n",
      "Epoch: 18/20... Step: 2500... Loss: 1.0936... Val Loss: 1.2754\n",
      "Epoch: 19/20... Step: 2525... Loss: 1.1200... Val Loss: 1.2696\n",
      "Epoch: 19/20... Step: 2550... Loss: 1.0919... Val Loss: 1.2730\n",
      "Epoch: 19/20... Step: 2575... Loss: 1.1111... Val Loss: 1.2708\n",
      "Epoch: 19/20... Step: 2600... Loss: 1.0799... Val Loss: 1.2699\n",
      "Epoch: 19/20... Step: 2625... Loss: 1.0670... Val Loss: 1.2727\n",
      "Epoch: 20/20... Step: 2650... Loss: 1.0972... Val Loss: 1.2715\n",
      "Epoch: 20/20... Step: 2675... Loss: 1.0751... Val Loss: 1.2680\n",
      "Epoch: 20/20... Step: 2700... Loss: 1.0954... Val Loss: 1.2723\n",
      "Epoch: 20/20... Step: 2725... Loss: 1.0729... Val Loss: 1.2710\n",
      "Epoch: 20/20... Step: 2750... Loss: 1.0749... Val Loss: 1.2758\n",
      "Epoch: 20/20... Step: 2775... Loss: 1.0903... Val Loss: 1.2703\n"
     ]
    }
   ],
   "source": [
    "batch_size = 128\n",
    "seq_length = 100\n",
    "# start small if you are just testing initial behavior\n",
    "n_epochs = 20\n",
    "\n",
    "# train the model\n",
    "train(net, encoded, epochs=n_epochs, batch_size=batch_size, seq_length=seq_length, lr=0.001, print_every=25)"
   ]
  },
  {
   "cell_type": "code",
   "execution_count": null,
   "metadata": {},
   "outputs": [],
   "source": []
  },
  {
   "cell_type": "markdown",
   "metadata": {},
   "source": [
    "## Getting the best model\n",
    "\n",
    "To set your hyperparameters to get the best performance, you'll want to watch the training and validation losses. If your training loss is much lower than the validation loss, you're overfitting. Increase regularization (more dropout) or use a smaller network. If the training and validation losses are close, you're underfitting so you can increase the size of the network."
   ]
  },
  {
   "cell_type": "markdown",
   "metadata": {},
   "source": [
    "## Hyperparameters\n",
    "\n",
    "Here are the hyperparameters for the network.\n",
    "\n",
    "In defining the model:\n",
    "* `n_hidden` - The number of units in the hidden layers.\n",
    "* `n_layers` - Number of hidden LSTM layers to use.\n",
    "\n",
    "We assume that dropout probability and learning rate will be kept at the default, in this example.\n",
    "\n",
    "And in training:\n",
    "* `batch_size` - Number of sequences running through the network in one pass.\n",
    "* `seq_length` - Number of characters in the sequence the network is trained on. Larger is better typically, the network will learn more long range dependencies. But it takes longer to train. 100 is typically a good number here.\n",
    "* `lr` - Learning rate for training\n",
    "\n",
    "Here's some good advice from Andrej Karpathy on training the network. I'm going to copy it in here for your benefit, but also link to [where it originally came from](https://github.com/karpathy/char-rnn#tips-and-tricks).\n",
    "\n",
    "> ## Tips and Tricks\n",
    "\n",
    ">### Monitoring Validation Loss vs. Training Loss\n",
    ">If you're somewhat new to Machine Learning or Neural Networks it can take a bit of expertise to get good models. The most important quantity to keep track of is the difference between your training loss (printed during training) and the validation loss (printed once in a while when the RNN is run on the validation data (by default every 1000 iterations)). In particular:\n",
    "\n",
    "> - If your training loss is much lower than validation loss then this means the network might be **overfitting**. Solutions to this are to decrease your network size, or to increase dropout. For example you could try dropout of 0.5 and so on.\n",
    "> - If your training/validation loss are about equal then your model is **underfitting**. Increase the size of your model (either number of layers or the raw number of neurons per layer)\n",
    "\n",
    "> ### Approximate number of parameters\n",
    "\n",
    "> The two most important parameters that control the model are `n_hidden` and `n_layers`. I would advise that you always use `n_layers` of either 2/3. The `n_hidden` can be adjusted based on how much data you have. The two important quantities to keep track of here are:\n",
    "\n",
    "> - The number of parameters in your model. This is printed when you start training.\n",
    "> - The size of your dataset. 1MB file is approximately 1 million characters.\n",
    "\n",
    ">These two should be about the same order of magnitude. It's a little tricky to tell. Here are some examples:\n",
    "\n",
    "> - I have a 100MB dataset and I'm using the default parameter settings (which currently print 150K parameters). My data size is significantly larger (100 mil >> 0.15 mil), so I expect to heavily underfit. I am thinking I can comfortably afford to make `n_hidden` larger.\n",
    "> - I have a 10MB dataset and running a 10 million parameter model. I'm slightly nervous and I'm carefully monitoring my validation loss. If it's larger than my training loss then I may want to try to increase dropout a bit and see if that helps the validation loss.\n",
    "\n",
    "> ### Best models strategy\n",
    "\n",
    ">The winning strategy to obtaining very good models (if you have the compute time) is to always err on making the network larger (as large as you're willing to wait for it to compute) and then try different dropout values (between 0,1). Whatever model has the best validation performance (the loss, written in the checkpoint filename, low is good) is the one you should use in the end.\n",
    "\n",
    ">It is very common in deep learning to run many different models with many different hyperparameter settings, and in the end take whatever checkpoint gave the best validation performance.\n",
    "\n",
    ">By the way, the size of your training and validation splits are also parameters. Make sure you have a decent amount of data in your validation set or otherwise the validation performance will be noisy and not very informative."
   ]
  },
  {
   "cell_type": "markdown",
   "metadata": {},
   "source": [
    "## Checkpoint\n",
    "\n",
    "After training, we'll save the model so we can load it again later if we need too. Here I'm saving the parameters needed to create the same architecture, the hidden layer hyperparameters and the text characters."
   ]
  },
  {
   "cell_type": "code",
   "execution_count": 152,
   "metadata": {},
   "outputs": [],
   "source": [
    "# change the name, for saving multiple files\n",
    "model_name = 'rnn_x_epoch.net'\n",
    "\n",
    "checkpoint = {'n_hidden': net.n_hidden,\n",
    "              'n_layers': net.n_layers,\n",
    "              'state_dict': net.state_dict(),\n",
    "              'tokens': net.chars}\n",
    "\n",
    "with open(model_name, 'wb') as f:\n",
    "    torch.save(checkpoint, f)"
   ]
  },
  {
   "cell_type": "markdown",
   "metadata": {},
   "source": [
    "---\n",
    "## Making Predictions\n",
    "\n",
    "Now that the model is trained, we'll want to sample from it and make predictions about next characters! To sample, we pass in a character and have the network predict the next character. Then we take that character, pass it back in, and get another predicted character. Just keep doing this and you'll generate a bunch of text!\n",
    "\n",
    "### A note on the `predict`  function\n",
    "\n",
    "The output of our RNN is from a fully-connected layer and it outputs a **distribution of next-character scores**.\n",
    "\n",
    "> To actually get the next character, we apply a softmax function, which gives us a *probability* distribution that we can then sample to predict the next character.\n",
    "\n",
    "### Top K sampling\n",
    "\n",
    "Our predictions come from a categorical probability distribution over all the possible characters. We can make the sample text and make it more reasonable to handle (with less variables) by only considering some $K$ most probable characters. This will prevent the network from giving us completely absurd characters while allowing it to introduce some noise and randomness into the sampled text. Read more about [topk, here](https://pytorch.org/docs/stable/torch.html#torch.topk).\n"
   ]
  },
  {
   "cell_type": "code",
   "execution_count": 195,
   "metadata": {},
   "outputs": [],
   "source": [
    "def predict(net, char, h=None, top_k=None):\n",
    "        ''' Given a character, predict the next character.\n",
    "            Returns the predicted character and the hidden state.\n",
    "        '''\n",
    "        \n",
    "        # tensor inputs\n",
    "        x = np.array([[net.char2int[char]]])\n",
    "        x = one_hot_encode(x, len(net.chars))\n",
    "\n",
    "        inputs = torch.from_numpy(x)\n",
    "        if(train_on_gpu):\n",
    "            inputs = inputs.cuda()\n",
    "        \n",
    "        # detach hidden state from history\n",
    "        h = tuple([each.data for each in h])\n",
    "        \n",
    "        # get the output of the model\n",
    "        out, h = net(inputs, h)\n",
    "        \n",
    "        # get the character probabilities\n",
    "        p = F.softmax(out, dim=1).data\n",
    "        if(train_on_gpu):\n",
    "            p = p.cpu() # move to cpu\n",
    "        \n",
    "        # get top characters\n",
    "        if top_k is None:\n",
    "            top_ch = np.arange(len(net.chars))\n",
    "        else:\n",
    "            p, top_ch = p.topk(top_k)\n",
    "\n",
    "            top_ch = top_ch.numpy().squeeze()\n",
    "        \n",
    "        # select the likely next character with some element of randomness\n",
    "        p = p.numpy().squeeze()\n",
    "        char = np.random.choice(top_ch, p=p/p.sum())\n",
    "        \n",
    "        # return the encoded value of the predicted char and the hidden state\n",
    "        return net.int2char[char], h"
   ]
  },
  {
   "cell_type": "markdown",
   "metadata": {},
   "source": [
    "### Priming and generating text \n",
    "\n",
    "Typically you'll want to prime the network so you can build up a hidden state. Otherwise the network will start out generating characters at random. In general the first bunch of characters will be a little rough since it hasn't built up a long history of characters to predict from."
   ]
  },
  {
   "cell_type": "code",
   "execution_count": 196,
   "metadata": {},
   "outputs": [],
   "source": [
    "def sample(net, size, prime='The', top_k=None):\n",
    "        \n",
    "    if(train_on_gpu):\n",
    "        net.cuda()\n",
    "    else:\n",
    "        net.cpu()\n",
    "    \n",
    "    net.eval() # eval mode\n",
    "    \n",
    "    # First off, run through the prime characters\n",
    "    chars = [ch for ch in prime]\n",
    "    h = net.init_hidden(1)\n",
    "    for ch in prime:\n",
    "        char, h = predict(net, ch, h, top_k=top_k)\n",
    "    \n",
    "    print(chars)\n",
    "    chars.append(char)\n",
    "    print(chars)\n",
    "    # Now pass in the previous character and get a new one\n",
    "    for ii in range(size):\n",
    "        char, h = predict(net, chars[-1], h, top_k=top_k)\n",
    "        chars.append(char)\n",
    "\n",
    "    return ''.join(chars)"
   ]
  },
  {
   "cell_type": "code",
   "execution_count": 197,
   "metadata": {
    "scrolled": true
   },
   "outputs": [
    {
     "name": "stdout",
     "output_type": "stream",
     "text": [
      "['A', 'n', 'n', 'a']\n",
      "['A', 'n', 'n', 'a', '.']\n",
      "Anna. She\n",
      "did all the carriage and the setsing correstrooms to him with some\n",
      "rivalt, and she saw that she had stood a strange till there.\n",
      "\n",
      "\"What's this tried it all about? I will be of that to to be\n",
      "sound it.... Well, is that I was a conclusion. I can go about in\n",
      "the summor in that disagreeable time at a livery of that interest\n",
      "on him and all the detire of her, than yourself about the simplicity, but\n",
      "though I are not to say a previous consideration of the carrainest in a certain a position\n",
      "and would be talking of that men, and I have noticed the same as the\n",
      "principal certain for me, when I cannot be at for a money. Wait a\n",
      "man who said she is so already,\" she said in a smile till the same\n",
      "tired. \"Why, was it all stands and always discrietly, take the sudden,\n",
      "and will tell her than yourself that,\" said Levin, smiling.\n",
      "\n",
      "\"You don't know, and I am the sight of the dining room to the court\n",
      "of to the state. But well, how do you know, where it!\" he asked sight,\n",
      "with a smile straightening him a conv\n"
     ]
    }
   ],
   "source": [
    "print(sample(net, 1000, prime='Anna', top_k=5))"
   ]
  },
  {
   "cell_type": "markdown",
   "metadata": {},
   "source": [
    "## Loading a checkpoint"
   ]
  },
  {
   "cell_type": "code",
   "execution_count": 198,
   "metadata": {},
   "outputs": [],
   "source": [
    "# Here we have loaded in a model that trained over 20 epochs `rnn_20_epoch.net`\n",
    "with open('rnn_x_epoch.net', 'rb') as f:\n",
    "    checkpoint = torch.load(f)\n",
    "    \n",
    "loaded = CharRNN(checkpoint['tokens'], n_hidden=checkpoint['n_hidden'], n_layers=checkpoint['n_layers'])\n",
    "loaded.load_state_dict(checkpoint['state_dict'])"
   ]
  },
  {
   "cell_type": "code",
   "execution_count": 199,
   "metadata": {},
   "outputs": [],
   "source": [
    "# Sample using a loaded model\n",
    "#print(sample(loaded, 2000, top_k=5, prime=\"And Levin said\"))"
   ]
  },
  {
   "cell_type": "code",
   "execution_count": null,
   "metadata": {},
   "outputs": [],
   "source": []
  }
 ],
 "metadata": {
  "kernelspec": {
   "display_name": "Python 3",
   "language": "python",
   "name": "python3"
  },
  "language_info": {
   "codemirror_mode": {
    "name": "ipython",
    "version": 3
   },
   "file_extension": ".py",
   "mimetype": "text/x-python",
   "name": "python",
   "nbconvert_exporter": "python",
   "pygments_lexer": "ipython3",
   "version": "3.6.8"
  }
 },
 "nbformat": 4,
 "nbformat_minor": 2
}
